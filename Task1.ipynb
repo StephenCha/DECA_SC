{
 "cells": [
  {
   "cell_type": "code",
   "execution_count": 38,
   "id": "7b213974",
   "metadata": {},
   "outputs": [],
   "source": [
    "import ffmpeg # pip install ffmpeg-python\n",
    "\n",
    "inputDir = './video/'\n",
    "outputDir = './video_output/'\n",
    "input_file_name = 'Conan.mp4'\n",
    "result = \"./Conan_3D_Reconstruction.mp4\""
   ]
  },
  {
   "cell_type": "code",
   "execution_count": 39,
   "id": "cd71dfc8",
   "metadata": {},
   "outputs": [
    {
     "name": "stderr",
     "output_type": "stream",
     "text": [
      "ffmpeg version 4.2.2 Copyright (c) 2000-2019 the FFmpeg developers\n",
      "  built with gcc 7.3.0 (crosstool-NG 1.23.0.449-a04d0)\n",
      "  configuration: --prefix=/usr/anaconda3/envs/deca --cc=/tmp/build/80754af9/ffmpeg_1587154242452/_build_env/bin/x86_64-conda_cos6-linux-gnu-cc --disable-doc --enable-avresample --enable-gmp --enable-hardcoded-tables --enable-libfreetype --enable-libvpx --enable-pthreads --enable-libopus --enable-postproc --enable-pic --enable-pthreads --enable-shared --enable-static --enable-version3 --enable-zlib --enable-libmp3lame --disable-nonfree --enable-gpl --enable-gnutls --disable-openssl --enable-libopenh264 --enable-libx264\n",
      "  libavutil      56. 31.100 / 56. 31.100\n",
      "  libavcodec     58. 54.100 / 58. 54.100\n",
      "  libavformat    58. 29.100 / 58. 29.100\n",
      "  libavdevice    58.  8.100 / 58.  8.100\n",
      "  libavfilter     7. 57.100 /  7. 57.100\n",
      "  libavresample   4.  0.  0 /  4.  0.  0\n",
      "  libswscale      5.  5.100 /  5.  5.100\n",
      "  libswresample   3.  5.100 /  3.  5.100\n",
      "  libpostproc    55.  5.100 / 55.  5.100\n",
      "Input #0, mov,mp4,m4a,3gp,3g2,mj2, from './video/Conan.mp4':\n",
      "  Metadata:\n",
      "    major_brand     : isom\n",
      "    minor_version   : 512\n",
      "    compatible_brands: isomiso2avc1mp41\n",
      "    encoder         : Lavf58.29.100\n",
      "  Duration: 00:02:52.34, start: 0.000000, bitrate: 356 kb/s\n",
      "    Stream #0:0(und): Video: h264 (Main) (avc1 / 0x31637661), yuv420p(tv, bt709), 1280x720 [SAR 1:1 DAR 16:9], 220 kb/s, 29.97 fps, 29.97 tbr, 90k tbn, 59.94 tbc (default)\n",
      "    Metadata:\n",
      "      handler_name    : VideoHandler\n",
      "    Stream #0:1(und): Audio: aac (LC) (mp4a / 0x6134706D), 44100 Hz, stereo, fltp, 127 kb/s (default)\n",
      "    Metadata:\n",
      "      handler_name    : SoundHandler\n",
      "Stream mapping:\n",
      "  Stream #0:0 -> #0:0 (h264 (native) -> mjpeg (native))\n",
      "Press [q] to stop, [?] for help\n",
      "[swscaler @ 0x55f05b42acc0] deprecated pixel format used, make sure you did set range correctly\n",
      "Output #0, image2, to './video_output/Conan-%04d.jpg':\n",
      "  Metadata:\n",
      "    major_brand     : isom\n",
      "    minor_version   : 512\n",
      "    compatible_brands: isomiso2avc1mp41\n",
      "    encoder         : Lavf58.29.100\n",
      "    Stream #0:0(und): Video: mjpeg, yuvj420p(pc), 1280x720 [SAR 1:1 DAR 16:9], q=2-31, 200 kb/s, 29.97 fps, 29.97 tbn, 29.97 tbc (default)\n",
      "    Metadata:\n",
      "      handler_name    : VideoHandler\n",
      "      encoder         : Lavc58.54.100 mjpeg\n",
      "    Side data:\n",
      "      cpb: bitrate max/min/avg: 0/0/200000 buffer size: 0 vbv_delay: -1\n",
      "frame= 5164 fps=695 q=3.0 Lsize=N/A time=00:02:52.30 bitrate=N/A dup=1 drop=0 speed=23.2x    \n",
      "video:246861kB audio:0kB subtitle:0kB other streams:0kB global headers:0kB muxing overhead: unknown\n"
     ]
    },
    {
     "data": {
      "text/plain": [
       "(None, None)"
      ]
     },
     "execution_count": 39,
     "metadata": {},
     "output_type": "execute_result"
    }
   ],
   "source": [
    "\n",
    "stream = ffmpeg.input(inputDir + input_file_name)\n",
    "#stream = ffmpeg.filter(stream, 'fps', fps=10, round = 'up')\n",
    "stream = ffmpeg.output(stream, outputDir + \"%s-%%04d.jpg\"%(input_file_name[:-4]), **{'qscale:v': 3})\n",
    "ffmpeg.run(stream)"
   ]
  },
  {
   "cell_type": "code",
   "execution_count": 11,
   "id": "ed8710a0",
   "metadata": {},
   "outputs": [],
   "source": [
    "\n",
    "inputDir = './video/'\n",
    "outputDir = './video_output/'\n",
    "saveDir = './3D_Reconstruction_Output'\n",
    "input_file_name = 'Conan.mp4'"
   ]
  },
  {
   "cell_type": "code",
   "execution_count": 40,
   "id": "1690ee17",
   "metadata": {},
   "outputs": [],
   "source": [
    "from demos import demo_reconstruct as dr\n",
    "import easydict"
   ]
  },
  {
   "cell_type": "code",
   "execution_count": 41,
   "id": "19fa9743",
   "metadata": {},
   "outputs": [],
   "source": [
    "args = easydict.EasyDict({\n",
    "    \"inputpath\" : outputDir, \n",
    "    \"savefolder\" : saveDir,\n",
    "    \"device\" : \"cuda\",\n",
    "    \"iscrop\" : True,\n",
    "    \"detector\" : \"fan\",\n",
    "    \"rasterizer_type\" : \"pytorch3d\",\n",
    "    \"render_orig\" : True,\n",
    "    \"useTex\" : False,\n",
    "    \"saveVis\" : False, \n",
    "    \"saveKpt\" : False, \n",
    "    \"saveDepth\" : False, \n",
    "    \"saveObj\" : False, \n",
    "    \"saveMat\" : False,\n",
    "    \"saveImages\" : True,\n",
    "    \"deviceNum\" : \"2\", # RTX 2080Ti\n",
    "})"
   ]
  },
  {
   "cell_type": "code",
   "execution_count": 42,
   "id": "113c4cad",
   "metadata": {},
   "outputs": [
    {
     "name": "stdout",
     "output_type": "stream",
     "text": [
      "creating the FLAME Decoder\n",
      "trained model found. load /home/stephencha/Code/202112 Internship at SNU Visual Computing Lab/DECA/data/deca_model.tar\n"
     ]
    },
    {
     "name": "stderr",
     "output_type": "stream",
     "text": [
      "/usr/anaconda3/envs/deca/lib/python3.8/site-packages/pytorch3d/io/obj_io.py:533: UserWarning: Mtl file does not exist: /home/stephencha/Code/202112 Internship at SNU Visual Computing Lab/DECA/data/template.mtl\n",
      "  warnings.warn(f\"Mtl file does not exist: {f}\")\n",
      "  0%|          | 0/5164 [00:00<?, ?it/s]/usr/anaconda3/envs/deca/lib/python3.8/site-packages/face_alignment/api.py:144: UserWarning: No faces were detected.\n",
      "  warnings.warn(\"No faces were detected.\")\n",
      "/usr/anaconda3/envs/deca/lib/python3.8/site-packages/torch/nn/functional.py:3631: UserWarning: Default upsampling behavior when mode=bilinear is changed to align_corners=False since 0.4.0. Please specify align_corners=True if the old behavior is desired. See the documentation of nn.Upsample for details.\n",
      "  warnings.warn(\n",
      "/usr/anaconda3/envs/deca/lib/python3.8/site-packages/torch/nn/functional.py:4003: UserWarning: Default grid_sample and affine_grid behavior has changed to align_corners=False since 1.3.0. Please specify align_corners=True if the old behavior is desired. See the documentation of grid_sample for details.\n",
      "  warnings.warn(\n"
     ]
    },
    {
     "name": "stdout",
     "output_type": "stream",
     "text": [
      "no face detected! run original image\n",
      "no face detected! run original image\n",
      "no face detected! run original image\n",
      "no face detected! run original image\n"
     ]
    },
    {
     "name": "stderr",
     "output_type": "stream",
     "text": [
      "  0%|          | 1/5164 [00:00<50:48,  1.69it/s]"
     ]
    },
    {
     "name": "stdout",
     "output_type": "stream",
     "text": [
      "no face detected! run original image\n",
      "no face detected! run original image\n",
      "no face detected! run original image\n",
      "no face detected! run original image\n"
     ]
    },
    {
     "name": "stderr",
     "output_type": "stream",
     "text": [
      "  0%|          | 2/5164 [00:01<47:51,  1.80it/s]"
     ]
    },
    {
     "name": "stdout",
     "output_type": "stream",
     "text": [
      "no face detected! run original image\n",
      "no face detected! run original image\n",
      "no face detected! run original image\n",
      "no face detected! run original image\n"
     ]
    },
    {
     "name": "stderr",
     "output_type": "stream",
     "text": [
      " 48%|████▊     | 2503/5164 [25:28<29:29,  1.50it/s]"
     ]
    },
    {
     "name": "stdout",
     "output_type": "stream",
     "text": [
      "no face detected! run original image\n",
      "no face detected! run original image\n",
      "no face detected! run original image\n",
      "no face detected! run original image\n"
     ]
    },
    {
     "name": "stderr",
     "output_type": "stream",
     "text": [
      " 48%|████▊     | 2504/5164 [25:28<27:39,  1.60it/s]"
     ]
    },
    {
     "name": "stdout",
     "output_type": "stream",
     "text": [
      "no face detected! run original image\n",
      "no face detected! run original image\n",
      "no face detected! run original image\n",
      "no face detected! run original image\n"
     ]
    },
    {
     "name": "stderr",
     "output_type": "stream",
     "text": [
      " 49%|████▊     | 2505/5164 [25:29<26:42,  1.66it/s]"
     ]
    },
    {
     "name": "stdout",
     "output_type": "stream",
     "text": [
      "no face detected! run original image\n",
      "no face detected! run original image\n",
      "no face detected! run original image\n",
      "no face detected! run original image\n"
     ]
    },
    {
     "name": "stderr",
     "output_type": "stream",
     "text": [
      " 49%|████▊     | 2506/5164 [25:29<25:41,  1.72it/s]"
     ]
    },
    {
     "name": "stdout",
     "output_type": "stream",
     "text": [
      "no face detected! run original image\n",
      "no face detected! run original image\n",
      "no face detected! run original image\n",
      "no face detected! run original image\n"
     ]
    },
    {
     "name": "stderr",
     "output_type": "stream",
     "text": [
      " 49%|████▊     | 2507/5164 [25:30<25:00,  1.77it/s]"
     ]
    },
    {
     "name": "stdout",
     "output_type": "stream",
     "text": [
      "no face detected! run original image\n",
      "no face detected! run original image\n",
      "no face detected! run original image\n",
      "no face detected! run original image\n"
     ]
    },
    {
     "name": "stderr",
     "output_type": "stream",
     "text": [
      " 49%|████▊     | 2508/5164 [25:30<24:40,  1.79it/s]"
     ]
    },
    {
     "name": "stdout",
     "output_type": "stream",
     "text": [
      "no face detected! run original image\n",
      "no face detected! run original image\n",
      "no face detected! run original image\n",
      "no face detected! run original image\n"
     ]
    },
    {
     "name": "stderr",
     "output_type": "stream",
     "text": [
      " 49%|████▊     | 2509/5164 [25:31<24:40,  1.79it/s]"
     ]
    },
    {
     "name": "stdout",
     "output_type": "stream",
     "text": [
      "no face detected! run original image\n",
      "no face detected! run original image\n",
      "no face detected! run original image\n",
      "no face detected! run original image\n"
     ]
    },
    {
     "name": "stderr",
     "output_type": "stream",
     "text": [
      " 49%|████▊     | 2510/5164 [25:31<24:18,  1.82it/s]"
     ]
    },
    {
     "name": "stdout",
     "output_type": "stream",
     "text": [
      "no face detected! run original image\n",
      "no face detected! run original image\n",
      "no face detected! run original image\n",
      "no face detected! run original image\n"
     ]
    },
    {
     "name": "stderr",
     "output_type": "stream",
     "text": [
      " 49%|████▊     | 2511/5164 [25:32<24:02,  1.84it/s]"
     ]
    },
    {
     "name": "stdout",
     "output_type": "stream",
     "text": [
      "no face detected! run original image\n",
      "no face detected! run original image\n",
      "no face detected! run original image\n",
      "no face detected! run original image\n"
     ]
    },
    {
     "name": "stderr",
     "output_type": "stream",
     "text": [
      " 49%|████▊     | 2512/5164 [25:33<23:51,  1.85it/s]"
     ]
    },
    {
     "name": "stdout",
     "output_type": "stream",
     "text": [
      "no face detected! run original image\n",
      "no face detected! run original image\n",
      "no face detected! run original image\n",
      "no face detected! run original image\n"
     ]
    },
    {
     "name": "stderr",
     "output_type": "stream",
     "text": [
      " 49%|████▊     | 2513/5164 [25:33<23:48,  1.86it/s]"
     ]
    },
    {
     "name": "stdout",
     "output_type": "stream",
     "text": [
      "no face detected! run original image\n",
      "no face detected! run original image\n",
      "no face detected! run original image\n",
      "no face detected! run original image\n"
     ]
    },
    {
     "name": "stderr",
     "output_type": "stream",
     "text": [
      " 49%|████▊     | 2514/5164 [25:34<23:48,  1.85it/s]"
     ]
    },
    {
     "name": "stdout",
     "output_type": "stream",
     "text": [
      "no face detected! run original image\n",
      "no face detected! run original image\n",
      "no face detected! run original image\n",
      "no face detected! run original image\n"
     ]
    },
    {
     "name": "stderr",
     "output_type": "stream",
     "text": [
      " 49%|████▊     | 2515/5164 [25:34<23:53,  1.85it/s]"
     ]
    },
    {
     "name": "stdout",
     "output_type": "stream",
     "text": [
      "no face detected! run original image\n",
      "no face detected! run original image\n",
      "no face detected! run original image\n",
      "no face detected! run original image\n"
     ]
    },
    {
     "name": "stderr",
     "output_type": "stream",
     "text": [
      " 49%|████▊     | 2516/5164 [25:35<23:55,  1.85it/s]"
     ]
    },
    {
     "name": "stdout",
     "output_type": "stream",
     "text": [
      "no face detected! run original image\n",
      "no face detected! run original image\n",
      "no face detected! run original image\n",
      "no face detected! run original image\n"
     ]
    },
    {
     "name": "stderr",
     "output_type": "stream",
     "text": [
      " 49%|████▊     | 2517/5164 [25:35<23:48,  1.85it/s]"
     ]
    },
    {
     "name": "stdout",
     "output_type": "stream",
     "text": [
      "no face detected! run original image\n",
      "no face detected! run original image\n",
      "no face detected! run original image\n",
      "no face detected! run original image\n"
     ]
    },
    {
     "name": "stderr",
     "output_type": "stream",
     "text": [
      " 49%|████▉     | 2518/5164 [25:36<23:40,  1.86it/s]"
     ]
    },
    {
     "name": "stdout",
     "output_type": "stream",
     "text": [
      "no face detected! run original image\n",
      "no face detected! run original image\n",
      "no face detected! run original image\n",
      "no face detected! run original image\n"
     ]
    },
    {
     "name": "stderr",
     "output_type": "stream",
     "text": [
      " 49%|████▉     | 2519/5164 [25:36<23:48,  1.85it/s]"
     ]
    },
    {
     "name": "stdout",
     "output_type": "stream",
     "text": [
      "no face detected! run original image\n",
      "no face detected! run original image\n",
      "no face detected! run original image\n",
      "no face detected! run original image\n"
     ]
    },
    {
     "name": "stderr",
     "output_type": "stream",
     "text": [
      " 49%|████▉     | 2520/5164 [25:37<23:59,  1.84it/s]"
     ]
    },
    {
     "name": "stdout",
     "output_type": "stream",
     "text": [
      "no face detected! run original image\n",
      "no face detected! run original image\n",
      "no face detected! run original image\n",
      "no face detected! run original image\n"
     ]
    },
    {
     "name": "stderr",
     "output_type": "stream",
     "text": [
      " 49%|████▉     | 2521/5164 [25:37<23:56,  1.84it/s]"
     ]
    },
    {
     "name": "stdout",
     "output_type": "stream",
     "text": [
      "no face detected! run original image\n",
      "no face detected! run original image\n",
      "no face detected! run original image\n",
      "no face detected! run original image\n"
     ]
    },
    {
     "name": "stderr",
     "output_type": "stream",
     "text": [
      " 49%|████▉     | 2522/5164 [25:38<23:57,  1.84it/s]"
     ]
    },
    {
     "name": "stdout",
     "output_type": "stream",
     "text": [
      "no face detected! run original image\n",
      "no face detected! run original image\n",
      "no face detected! run original image\n",
      "no face detected! run original image\n"
     ]
    },
    {
     "name": "stderr",
     "output_type": "stream",
     "text": [
      " 49%|████▉     | 2523/5164 [25:39<23:52,  1.84it/s]"
     ]
    },
    {
     "name": "stdout",
     "output_type": "stream",
     "text": [
      "no face detected! run original image\n",
      "no face detected! run original image\n",
      "no face detected! run original image\n",
      "no face detected! run original image\n"
     ]
    },
    {
     "name": "stderr",
     "output_type": "stream",
     "text": [
      " 49%|████▉     | 2524/5164 [25:39<24:04,  1.83it/s]"
     ]
    },
    {
     "name": "stdout",
     "output_type": "stream",
     "text": [
      "no face detected! run original image\n",
      "no face detected! run original image\n",
      "no face detected! run original image\n",
      "no face detected! run original image\n"
     ]
    },
    {
     "name": "stderr",
     "output_type": "stream",
     "text": [
      " 49%|████▉     | 2525/5164 [25:40<24:06,  1.82it/s]"
     ]
    },
    {
     "name": "stdout",
     "output_type": "stream",
     "text": [
      "no face detected! run original image\n",
      "no face detected! run original image\n",
      "no face detected! run original image\n",
      "no face detected! run original image\n"
     ]
    },
    {
     "name": "stderr",
     "output_type": "stream",
     "text": [
      " 49%|████▉     | 2526/5164 [25:40<24:03,  1.83it/s]"
     ]
    },
    {
     "name": "stdout",
     "output_type": "stream",
     "text": [
      "no face detected! run original image\n",
      "no face detected! run original image\n",
      "no face detected! run original image\n",
      "no face detected! run original image\n"
     ]
    },
    {
     "name": "stderr",
     "output_type": "stream",
     "text": [
      " 49%|████▉     | 2527/5164 [25:41<23:57,  1.83it/s]"
     ]
    },
    {
     "name": "stdout",
     "output_type": "stream",
     "text": [
      "no face detected! run original image\n",
      "no face detected! run original image\n",
      "no face detected! run original image\n",
      "no face detected! run original image\n"
     ]
    },
    {
     "name": "stderr",
     "output_type": "stream",
     "text": [
      " 49%|████▉     | 2528/5164 [25:41<24:12,  1.81it/s]"
     ]
    },
    {
     "name": "stdout",
     "output_type": "stream",
     "text": [
      "no face detected! run original image\n",
      "no face detected! run original image\n",
      "no face detected! run original image\n",
      "no face detected! run original image\n"
     ]
    },
    {
     "name": "stderr",
     "output_type": "stream",
     "text": [
      " 49%|████▉     | 2529/5164 [25:42<23:52,  1.84it/s]"
     ]
    },
    {
     "name": "stdout",
     "output_type": "stream",
     "text": [
      "no face detected! run original image\n",
      "no face detected! run original image\n",
      "no face detected! run original image\n",
      "no face detected! run original image\n"
     ]
    },
    {
     "name": "stderr",
     "output_type": "stream",
     "text": [
      " 49%|████▉     | 2530/5164 [25:42<23:44,  1.85it/s]"
     ]
    },
    {
     "name": "stdout",
     "output_type": "stream",
     "text": [
      "no face detected! run original image\n",
      "no face detected! run original image\n",
      "no face detected! run original image\n",
      "no face detected! run original image\n"
     ]
    },
    {
     "name": "stderr",
     "output_type": "stream",
     "text": [
      " 49%|████▉     | 2531/5164 [25:43<23:36,  1.86it/s]"
     ]
    },
    {
     "name": "stdout",
     "output_type": "stream",
     "text": [
      "no face detected! run original image\n",
      "no face detected! run original image\n",
      "no face detected! run original image\n",
      "no face detected! run original image\n"
     ]
    },
    {
     "name": "stderr",
     "output_type": "stream",
     "text": [
      " 49%|████▉     | 2532/5164 [25:43<23:32,  1.86it/s]"
     ]
    },
    {
     "name": "stdout",
     "output_type": "stream",
     "text": [
      "no face detected! run original image\n",
      "no face detected! run original image\n",
      "no face detected! run original image\n",
      "no face detected! run original image\n"
     ]
    },
    {
     "name": "stderr",
     "output_type": "stream",
     "text": [
      " 49%|████▉     | 2533/5164 [25:44<23:37,  1.86it/s]"
     ]
    },
    {
     "name": "stdout",
     "output_type": "stream",
     "text": [
      "no face detected! run original image\n",
      "no face detected! run original image\n",
      "no face detected! run original image\n",
      "no face detected! run original image\n"
     ]
    },
    {
     "name": "stderr",
     "output_type": "stream",
     "text": [
      " 49%|████▉     | 2534/5164 [25:44<23:32,  1.86it/s]"
     ]
    },
    {
     "name": "stdout",
     "output_type": "stream",
     "text": [
      "no face detected! run original image\n",
      "no face detected! run original image\n",
      "no face detected! run original image\n",
      "no face detected! run original image\n"
     ]
    },
    {
     "name": "stderr",
     "output_type": "stream",
     "text": [
      " 49%|████▉     | 2535/5164 [25:45<23:30,  1.86it/s]"
     ]
    },
    {
     "name": "stdout",
     "output_type": "stream",
     "text": [
      "no face detected! run original image\n",
      "no face detected! run original image\n",
      "no face detected! run original image\n",
      "no face detected! run original image\n"
     ]
    },
    {
     "name": "stderr",
     "output_type": "stream",
     "text": [
      " 49%|████▉     | 2536/5164 [25:46<23:34,  1.86it/s]"
     ]
    },
    {
     "name": "stdout",
     "output_type": "stream",
     "text": [
      "no face detected! run original image\n",
      "no face detected! run original image\n",
      "no face detected! run original image\n",
      "no face detected! run original image\n"
     ]
    },
    {
     "name": "stderr",
     "output_type": "stream",
     "text": [
      " 49%|████▉     | 2537/5164 [25:46<23:33,  1.86it/s]"
     ]
    },
    {
     "name": "stdout",
     "output_type": "stream",
     "text": [
      "no face detected! run original image\n",
      "no face detected! run original image\n",
      "no face detected! run original image\n",
      "no face detected! run original image\n"
     ]
    },
    {
     "name": "stderr",
     "output_type": "stream",
     "text": [
      " 49%|████▉     | 2538/5164 [25:47<23:24,  1.87it/s]"
     ]
    },
    {
     "name": "stdout",
     "output_type": "stream",
     "text": [
      "no face detected! run original image\n",
      "no face detected! run original image\n",
      "no face detected! run original image\n",
      "no face detected! run original image\n"
     ]
    },
    {
     "name": "stderr",
     "output_type": "stream",
     "text": [
      " 49%|████▉     | 2539/5164 [25:47<23:41,  1.85it/s]"
     ]
    },
    {
     "name": "stdout",
     "output_type": "stream",
     "text": [
      "no face detected! run original image\n",
      "no face detected! run original image\n",
      "no face detected! run original image\n",
      "no face detected! run original image\n"
     ]
    },
    {
     "name": "stderr",
     "output_type": "stream",
     "text": [
      " 49%|████▉     | 2540/5164 [25:48<23:49,  1.84it/s]"
     ]
    },
    {
     "name": "stdout",
     "output_type": "stream",
     "text": [
      "no face detected! run original image\n",
      "no face detected! run original image\n",
      "no face detected! run original image\n",
      "no face detected! run original image\n"
     ]
    },
    {
     "name": "stderr",
     "output_type": "stream",
     "text": [
      " 49%|████▉     | 2541/5164 [25:48<24:01,  1.82it/s]"
     ]
    },
    {
     "name": "stdout",
     "output_type": "stream",
     "text": [
      "no face detected! run original image\n",
      "no face detected! run original image\n",
      "no face detected! run original image\n",
      "no face detected! run original image\n"
     ]
    },
    {
     "name": "stderr",
     "output_type": "stream",
     "text": [
      " 49%|████▉     | 2542/5164 [25:49<23:58,  1.82it/s]"
     ]
    },
    {
     "name": "stdout",
     "output_type": "stream",
     "text": [
      "no face detected! run original image\n",
      "no face detected! run original image\n",
      "no face detected! run original image\n",
      "no face detected! run original image\n"
     ]
    },
    {
     "name": "stderr",
     "output_type": "stream",
     "text": [
      " 49%|████▉     | 2543/5164 [25:49<24:34,  1.78it/s]"
     ]
    },
    {
     "name": "stdout",
     "output_type": "stream",
     "text": [
      "no face detected! run original image\n",
      "no face detected! run original image\n",
      "no face detected! run original image\n",
      "no face detected! run original image\n"
     ]
    },
    {
     "name": "stderr",
     "output_type": "stream",
     "text": [
      " 49%|████▉     | 2544/5164 [25:50<24:09,  1.81it/s]"
     ]
    },
    {
     "name": "stdout",
     "output_type": "stream",
     "text": [
      "no face detected! run original image\n",
      "no face detected! run original image\n",
      "no face detected! run original image\n",
      "no face detected! run original image\n"
     ]
    },
    {
     "name": "stderr",
     "output_type": "stream",
     "text": [
      " 49%|████▉     | 2545/5164 [25:50<23:48,  1.83it/s]"
     ]
    },
    {
     "name": "stdout",
     "output_type": "stream",
     "text": [
      "no face detected! run original image\n",
      "no face detected! run original image\n",
      "no face detected! run original image\n",
      "no face detected! run original image\n"
     ]
    },
    {
     "name": "stderr",
     "output_type": "stream",
     "text": [
      " 49%|████▉     | 2546/5164 [25:51<23:47,  1.83it/s]"
     ]
    },
    {
     "name": "stdout",
     "output_type": "stream",
     "text": [
      "no face detected! run original image\n",
      "no face detected! run original image\n",
      "no face detected! run original image\n",
      "no face detected! run original image\n"
     ]
    },
    {
     "name": "stderr",
     "output_type": "stream",
     "text": [
      " 49%|████▉     | 2547/5164 [25:52<23:35,  1.85it/s]"
     ]
    },
    {
     "name": "stdout",
     "output_type": "stream",
     "text": [
      "no face detected! run original image\n",
      "no face detected! run original image\n",
      "no face detected! run original image\n",
      "no face detected! run original image\n"
     ]
    },
    {
     "name": "stderr",
     "output_type": "stream",
     "text": [
      " 49%|████▉     | 2548/5164 [25:52<23:28,  1.86it/s]"
     ]
    },
    {
     "name": "stdout",
     "output_type": "stream",
     "text": [
      "no face detected! run original image\n",
      "no face detected! run original image\n",
      "no face detected! run original image\n",
      "no face detected! run original image\n"
     ]
    },
    {
     "name": "stderr",
     "output_type": "stream",
     "text": [
      " 49%|████▉     | 2549/5164 [25:53<23:31,  1.85it/s]"
     ]
    },
    {
     "name": "stdout",
     "output_type": "stream",
     "text": [
      "no face detected! run original image\n",
      "no face detected! run original image\n",
      "no face detected! run original image\n",
      "no face detected! run original image\n"
     ]
    },
    {
     "name": "stderr",
     "output_type": "stream",
     "text": [
      " 49%|████▉     | 2550/5164 [25:53<23:34,  1.85it/s]"
     ]
    },
    {
     "name": "stdout",
     "output_type": "stream",
     "text": [
      "no face detected! run original image\n",
      "no face detected! run original image\n",
      "no face detected! run original image\n",
      "no face detected! run original image\n"
     ]
    },
    {
     "name": "stderr",
     "output_type": "stream",
     "text": [
      " 49%|████▉     | 2551/5164 [25:54<23:30,  1.85it/s]"
     ]
    },
    {
     "name": "stdout",
     "output_type": "stream",
     "text": [
      "no face detected! run original image\n",
      "no face detected! run original image\n",
      "no face detected! run original image\n",
      "no face detected! run original image\n"
     ]
    },
    {
     "name": "stderr",
     "output_type": "stream",
     "text": [
      " 49%|████▉     | 2552/5164 [25:54<23:23,  1.86it/s]"
     ]
    },
    {
     "name": "stdout",
     "output_type": "stream",
     "text": [
      "no face detected! run original image\n",
      "no face detected! run original image\n",
      "no face detected! run original image\n",
      "no face detected! run original image\n"
     ]
    },
    {
     "name": "stderr",
     "output_type": "stream",
     "text": [
      " 49%|████▉     | 2553/5164 [25:55<23:18,  1.87it/s]"
     ]
    },
    {
     "name": "stdout",
     "output_type": "stream",
     "text": [
      "no face detected! run original image\n",
      "no face detected! run original image\n",
      "no face detected! run original image\n",
      "no face detected! run original image\n"
     ]
    },
    {
     "name": "stderr",
     "output_type": "stream",
     "text": [
      " 49%|████▉     | 2554/5164 [25:55<23:19,  1.87it/s]"
     ]
    },
    {
     "name": "stdout",
     "output_type": "stream",
     "text": [
      "no face detected! run original image\n",
      "no face detected! run original image\n",
      "no face detected! run original image\n",
      "no face detected! run original image\n"
     ]
    },
    {
     "name": "stderr",
     "output_type": "stream",
     "text": [
      " 49%|████▉     | 2555/5164 [25:56<23:21,  1.86it/s]"
     ]
    },
    {
     "name": "stdout",
     "output_type": "stream",
     "text": [
      "no face detected! run original image\n",
      "no face detected! run original image\n",
      "no face detected! run original image\n",
      "no face detected! run original image\n"
     ]
    },
    {
     "name": "stderr",
     "output_type": "stream",
     "text": [
      " 49%|████▉     | 2556/5164 [25:56<23:20,  1.86it/s]"
     ]
    },
    {
     "name": "stdout",
     "output_type": "stream",
     "text": [
      "no face detected! run original image\n",
      "no face detected! run original image\n",
      "no face detected! run original image\n",
      "no face detected! run original image\n"
     ]
    },
    {
     "name": "stderr",
     "output_type": "stream",
     "text": [
      " 50%|████▉     | 2557/5164 [25:57<23:16,  1.87it/s]"
     ]
    },
    {
     "name": "stdout",
     "output_type": "stream",
     "text": [
      "no face detected! run original image\n",
      "no face detected! run original image\n",
      "no face detected! run original image\n",
      "no face detected! run original image\n"
     ]
    },
    {
     "name": "stderr",
     "output_type": "stream",
     "text": [
      " 50%|████▉     | 2558/5164 [25:57<23:12,  1.87it/s]"
     ]
    },
    {
     "name": "stdout",
     "output_type": "stream",
     "text": [
      "no face detected! run original image\n",
      "no face detected! run original image\n",
      "no face detected! run original image\n",
      "no face detected! run original image\n"
     ]
    },
    {
     "name": "stderr",
     "output_type": "stream",
     "text": [
      " 50%|████▉     | 2559/5164 [25:58<23:19,  1.86it/s]"
     ]
    },
    {
     "name": "stdout",
     "output_type": "stream",
     "text": [
      "no face detected! run original image\n",
      "no face detected! run original image\n",
      "no face detected! run original image\n",
      "no face detected! run original image\n"
     ]
    },
    {
     "name": "stderr",
     "output_type": "stream",
     "text": [
      " 50%|████▉     | 2560/5164 [25:59<23:44,  1.83it/s]"
     ]
    },
    {
     "name": "stdout",
     "output_type": "stream",
     "text": [
      "no face detected! run original image\n",
      "no face detected! run original image\n",
      "no face detected! run original image\n",
      "no face detected! run original image\n"
     ]
    },
    {
     "name": "stderr",
     "output_type": "stream",
     "text": [
      " 50%|████▉     | 2561/5164 [25:59<24:03,  1.80it/s]"
     ]
    },
    {
     "name": "stdout",
     "output_type": "stream",
     "text": [
      "no face detected! run original image\n",
      "no face detected! run original image\n",
      "no face detected! run original image\n",
      "no face detected! run original image\n"
     ]
    },
    {
     "name": "stderr",
     "output_type": "stream",
     "text": [
      " 50%|████▉     | 2562/5164 [26:00<24:02,  1.80it/s]"
     ]
    },
    {
     "name": "stdout",
     "output_type": "stream",
     "text": [
      "no face detected! run original image\n",
      "no face detected! run original image\n",
      "no face detected! run original image\n",
      "no face detected! run original image\n"
     ]
    },
    {
     "name": "stderr",
     "output_type": "stream",
     "text": [
      " 50%|████▉     | 2563/5164 [26:00<23:50,  1.82it/s]"
     ]
    },
    {
     "name": "stdout",
     "output_type": "stream",
     "text": [
      "no face detected! run original image\n",
      "no face detected! run original image\n",
      "no face detected! run original image\n",
      "no face detected! run original image\n"
     ]
    },
    {
     "name": "stderr",
     "output_type": "stream",
     "text": [
      " 50%|████▉     | 2564/5164 [26:01<23:52,  1.82it/s]"
     ]
    },
    {
     "name": "stdout",
     "output_type": "stream",
     "text": [
      "no face detected! run original image\n",
      "no face detected! run original image\n",
      "no face detected! run original image\n",
      "no face detected! run original image\n"
     ]
    },
    {
     "name": "stderr",
     "output_type": "stream",
     "text": [
      " 50%|████▉     | 2565/5164 [26:01<23:39,  1.83it/s]"
     ]
    },
    {
     "name": "stdout",
     "output_type": "stream",
     "text": [
      "no face detected! run original image\n",
      "no face detected! run original image\n",
      "no face detected! run original image\n",
      "no face detected! run original image\n"
     ]
    },
    {
     "name": "stderr",
     "output_type": "stream",
     "text": [
      " 50%|████▉     | 2566/5164 [26:02<23:27,  1.85it/s]"
     ]
    },
    {
     "name": "stdout",
     "output_type": "stream",
     "text": [
      "no face detected! run original image\n",
      "no face detected! run original image\n",
      "no face detected! run original image\n",
      "no face detected! run original image\n"
     ]
    },
    {
     "name": "stderr",
     "output_type": "stream",
     "text": [
      " 50%|████▉     | 2567/5164 [26:02<23:22,  1.85it/s]"
     ]
    },
    {
     "name": "stdout",
     "output_type": "stream",
     "text": [
      "no face detected! run original image\n",
      "no face detected! run original image\n",
      "no face detected! run original image\n",
      "no face detected! run original image\n"
     ]
    },
    {
     "name": "stderr",
     "output_type": "stream",
     "text": [
      " 50%|████▉     | 2568/5164 [26:03<23:25,  1.85it/s]"
     ]
    },
    {
     "name": "stdout",
     "output_type": "stream",
     "text": [
      "no face detected! run original image\n",
      "no face detected! run original image\n",
      "no face detected! run original image\n",
      "no face detected! run original image\n"
     ]
    },
    {
     "name": "stderr",
     "output_type": "stream",
     "text": [
      " 50%|████▉     | 2569/5164 [26:04<27:11,  1.59it/s]"
     ]
    },
    {
     "name": "stdout",
     "output_type": "stream",
     "text": [
      "no face detected! run original image\n",
      "no face detected! run original image\n",
      "no face detected! run original image\n",
      "no face detected! run original image\n"
     ]
    },
    {
     "name": "stderr",
     "output_type": "stream",
     "text": [
      " 50%|████▉     | 2570/5164 [26:04<25:52,  1.67it/s]"
     ]
    },
    {
     "name": "stdout",
     "output_type": "stream",
     "text": [
      "no face detected! run original image\n",
      "no face detected! run original image\n",
      "no face detected! run original image\n",
      "no face detected! run original image\n"
     ]
    },
    {
     "name": "stderr",
     "output_type": "stream",
     "text": [
      " 50%|████▉     | 2571/5164 [26:05<25:12,  1.71it/s]"
     ]
    },
    {
     "name": "stdout",
     "output_type": "stream",
     "text": [
      "no face detected! run original image\n",
      "no face detected! run original image\n",
      "no face detected! run original image\n",
      "no face detected! run original image\n"
     ]
    },
    {
     "name": "stderr",
     "output_type": "stream",
     "text": [
      " 50%|████▉     | 2572/5164 [26:05<24:29,  1.76it/s]"
     ]
    },
    {
     "name": "stdout",
     "output_type": "stream",
     "text": [
      "no face detected! run original image\n",
      "no face detected! run original image\n",
      "no face detected! run original image\n",
      "no face detected! run original image\n"
     ]
    },
    {
     "name": "stderr",
     "output_type": "stream",
     "text": [
      " 50%|████▉     | 2573/5164 [26:06<24:03,  1.80it/s]"
     ]
    },
    {
     "name": "stdout",
     "output_type": "stream",
     "text": [
      "no face detected! run original image\n",
      "no face detected! run original image\n",
      "no face detected! run original image\n",
      "no face detected! run original image\n"
     ]
    },
    {
     "name": "stderr",
     "output_type": "stream",
     "text": [
      " 50%|████▉     | 2574/5164 [26:06<23:45,  1.82it/s]"
     ]
    },
    {
     "name": "stdout",
     "output_type": "stream",
     "text": [
      "no face detected! run original image\n",
      "no face detected! run original image\n",
      "no face detected! run original image\n",
      "no face detected! run original image\n"
     ]
    },
    {
     "name": "stderr",
     "output_type": "stream",
     "text": [
      " 50%|████▉     | 2575/5164 [26:07<23:28,  1.84it/s]"
     ]
    },
    {
     "name": "stdout",
     "output_type": "stream",
     "text": [
      "no face detected! run original image\n",
      "no face detected! run original image\n",
      "no face detected! run original image\n",
      "no face detected! run original image\n"
     ]
    },
    {
     "name": "stderr",
     "output_type": "stream",
     "text": [
      " 50%|████▉     | 2576/5164 [26:08<23:16,  1.85it/s]"
     ]
    },
    {
     "name": "stdout",
     "output_type": "stream",
     "text": [
      "no face detected! run original image\n",
      "no face detected! run original image\n",
      "no face detected! run original image\n",
      "no face detected! run original image\n"
     ]
    },
    {
     "name": "stderr",
     "output_type": "stream",
     "text": [
      " 50%|████▉     | 2577/5164 [26:08<23:19,  1.85it/s]"
     ]
    },
    {
     "name": "stdout",
     "output_type": "stream",
     "text": [
      "no face detected! run original image\n",
      "no face detected! run original image\n",
      "no face detected! run original image\n",
      "no face detected! run original image\n"
     ]
    },
    {
     "name": "stderr",
     "output_type": "stream",
     "text": [
      " 50%|████▉     | 2578/5164 [26:09<23:11,  1.86it/s]"
     ]
    },
    {
     "name": "stdout",
     "output_type": "stream",
     "text": [
      "no face detected! run original image\n",
      "no face detected! run original image\n",
      "no face detected! run original image\n",
      "no face detected! run original image\n"
     ]
    },
    {
     "name": "stderr",
     "output_type": "stream",
     "text": [
      " 50%|████▉     | 2579/5164 [26:09<23:06,  1.86it/s]"
     ]
    },
    {
     "name": "stdout",
     "output_type": "stream",
     "text": [
      "no face detected! run original image\n",
      "no face detected! run original image\n",
      "no face detected! run original image\n",
      "no face detected! run original image\n"
     ]
    },
    {
     "name": "stderr",
     "output_type": "stream",
     "text": [
      " 50%|████▉     | 2580/5164 [26:10<23:01,  1.87it/s]"
     ]
    },
    {
     "name": "stdout",
     "output_type": "stream",
     "text": [
      "no face detected! run original image\n",
      "no face detected! run original image\n",
      "no face detected! run original image\n",
      "no face detected! run original image\n"
     ]
    },
    {
     "name": "stderr",
     "output_type": "stream",
     "text": [
      " 50%|████▉     | 2581/5164 [26:10<23:10,  1.86it/s]"
     ]
    },
    {
     "name": "stdout",
     "output_type": "stream",
     "text": [
      "no face detected! run original image\n",
      "no face detected! run original image\n",
      "no face detected! run original image\n",
      "no face detected! run original image\n"
     ]
    },
    {
     "name": "stderr",
     "output_type": "stream",
     "text": [
      " 50%|█████     | 2582/5164 [26:11<23:20,  1.84it/s]"
     ]
    },
    {
     "name": "stdout",
     "output_type": "stream",
     "text": [
      "no face detected! run original image\n",
      "no face detected! run original image\n",
      "no face detected! run original image\n",
      "no face detected! run original image\n"
     ]
    },
    {
     "name": "stderr",
     "output_type": "stream",
     "text": [
      " 50%|█████     | 2583/5164 [26:11<23:32,  1.83it/s]"
     ]
    },
    {
     "name": "stdout",
     "output_type": "stream",
     "text": [
      "no face detected! run original image\n",
      "no face detected! run original image\n",
      "no face detected! run original image\n",
      "no face detected! run original image\n"
     ]
    },
    {
     "name": "stderr",
     "output_type": "stream",
     "text": [
      " 50%|█████     | 2584/5164 [26:12<23:44,  1.81it/s]"
     ]
    },
    {
     "name": "stdout",
     "output_type": "stream",
     "text": [
      "no face detected! run original image\n",
      "no face detected! run original image\n",
      "no face detected! run original image\n",
      "no face detected! run original image\n"
     ]
    },
    {
     "name": "stderr",
     "output_type": "stream",
     "text": [
      " 50%|█████     | 2585/5164 [26:12<23:33,  1.82it/s]"
     ]
    },
    {
     "name": "stdout",
     "output_type": "stream",
     "text": [
      "no face detected! run original image\n",
      "no face detected! run original image\n",
      "no face detected! run original image\n",
      "no face detected! run original image\n"
     ]
    },
    {
     "name": "stderr",
     "output_type": "stream",
     "text": [
      " 50%|█████     | 2586/5164 [26:13<23:36,  1.82it/s]"
     ]
    },
    {
     "name": "stdout",
     "output_type": "stream",
     "text": [
      "no face detected! run original image\n",
      "no face detected! run original image\n",
      "no face detected! run original image\n",
      "no face detected! run original image\n"
     ]
    },
    {
     "name": "stderr",
     "output_type": "stream",
     "text": [
      " 50%|█████     | 2587/5164 [26:13<23:23,  1.84it/s]"
     ]
    },
    {
     "name": "stdout",
     "output_type": "stream",
     "text": [
      "no face detected! run original image\n",
      "no face detected! run original image\n",
      "no face detected! run original image\n",
      "no face detected! run original image\n"
     ]
    },
    {
     "name": "stderr",
     "output_type": "stream",
     "text": [
      " 50%|█████     | 2588/5164 [26:14<23:18,  1.84it/s]"
     ]
    },
    {
     "name": "stdout",
     "output_type": "stream",
     "text": [
      "no face detected! run original image\n",
      "no face detected! run original image\n",
      "no face detected! run original image\n",
      "no face detected! run original image\n"
     ]
    },
    {
     "name": "stderr",
     "output_type": "stream",
     "text": [
      " 50%|█████     | 2589/5164 [26:15<23:27,  1.83it/s]"
     ]
    },
    {
     "name": "stdout",
     "output_type": "stream",
     "text": [
      "no face detected! run original image\n",
      "no face detected! run original image\n",
      "no face detected! run original image\n",
      "no face detected! run original image\n"
     ]
    },
    {
     "name": "stderr",
     "output_type": "stream",
     "text": [
      " 50%|█████     | 2590/5164 [26:15<23:34,  1.82it/s]"
     ]
    },
    {
     "name": "stdout",
     "output_type": "stream",
     "text": [
      "no face detected! run original image\n",
      "no face detected! run original image\n",
      "no face detected! run original image\n",
      "no face detected! run original image\n"
     ]
    },
    {
     "name": "stderr",
     "output_type": "stream",
     "text": [
      " 50%|█████     | 2591/5164 [26:16<23:25,  1.83it/s]"
     ]
    },
    {
     "name": "stdout",
     "output_type": "stream",
     "text": [
      "no face detected! run original image\n",
      "no face detected! run original image\n",
      "no face detected! run original image\n",
      "no face detected! run original image\n"
     ]
    },
    {
     "name": "stderr",
     "output_type": "stream",
     "text": [
      " 50%|█████     | 2592/5164 [26:16<23:15,  1.84it/s]"
     ]
    },
    {
     "name": "stdout",
     "output_type": "stream",
     "text": [
      "no face detected! run original image\n",
      "no face detected! run original image\n",
      "no face detected! run original image\n",
      "no face detected! run original image\n"
     ]
    },
    {
     "name": "stderr",
     "output_type": "stream",
     "text": [
      " 50%|█████     | 2593/5164 [26:17<23:13,  1.84it/s]"
     ]
    },
    {
     "name": "stdout",
     "output_type": "stream",
     "text": [
      "no face detected! run original image\n",
      "no face detected! run original image\n",
      "no face detected! run original image\n",
      "no face detected! run original image\n"
     ]
    },
    {
     "name": "stderr",
     "output_type": "stream",
     "text": [
      " 50%|█████     | 2594/5164 [26:17<23:18,  1.84it/s]"
     ]
    },
    {
     "name": "stdout",
     "output_type": "stream",
     "text": [
      "no face detected! run original image\n",
      "no face detected! run original image\n",
      "no face detected! run original image\n",
      "no face detected! run original image\n"
     ]
    },
    {
     "name": "stderr",
     "output_type": "stream",
     "text": [
      " 50%|█████     | 2595/5164 [26:18<23:29,  1.82it/s]"
     ]
    },
    {
     "name": "stdout",
     "output_type": "stream",
     "text": [
      "no face detected! run original image\n",
      "no face detected! run original image\n",
      "no face detected! run original image\n",
      "no face detected! run original image\n"
     ]
    },
    {
     "name": "stderr",
     "output_type": "stream",
     "text": [
      " 50%|█████     | 2596/5164 [26:18<23:32,  1.82it/s]"
     ]
    },
    {
     "name": "stdout",
     "output_type": "stream",
     "text": [
      "no face detected! run original image\n",
      "no face detected! run original image\n",
      "no face detected! run original image\n",
      "no face detected! run original image\n"
     ]
    },
    {
     "name": "stderr",
     "output_type": "stream",
     "text": [
      " 50%|█████     | 2597/5164 [26:19<23:30,  1.82it/s]"
     ]
    },
    {
     "name": "stdout",
     "output_type": "stream",
     "text": [
      "no face detected! run original image\n",
      "no face detected! run original image\n",
      "no face detected! run original image\n",
      "no face detected! run original image\n"
     ]
    },
    {
     "name": "stderr",
     "output_type": "stream",
     "text": [
      " 50%|█████     | 2598/5164 [26:19<23:22,  1.83it/s]"
     ]
    },
    {
     "name": "stdout",
     "output_type": "stream",
     "text": [
      "no face detected! run original image\n",
      "no face detected! run original image\n",
      "no face detected! run original image\n",
      "no face detected! run original image\n"
     ]
    },
    {
     "name": "stderr",
     "output_type": "stream",
     "text": [
      " 50%|█████     | 2599/5164 [26:20<23:24,  1.83it/s]"
     ]
    },
    {
     "name": "stdout",
     "output_type": "stream",
     "text": [
      "no face detected! run original image\n",
      "no face detected! run original image\n",
      "no face detected! run original image\n",
      "no face detected! run original image\n"
     ]
    },
    {
     "name": "stderr",
     "output_type": "stream",
     "text": [
      " 50%|█████     | 2600/5164 [26:21<23:22,  1.83it/s]"
     ]
    },
    {
     "name": "stdout",
     "output_type": "stream",
     "text": [
      "no face detected! run original image\n",
      "no face detected! run original image\n",
      "no face detected! run original image\n",
      "no face detected! run original image\n"
     ]
    },
    {
     "name": "stderr",
     "output_type": "stream",
     "text": [
      " 50%|█████     | 2601/5164 [26:21<23:30,  1.82it/s]"
     ]
    },
    {
     "name": "stdout",
     "output_type": "stream",
     "text": [
      "no face detected! run original image\n",
      "no face detected! run original image\n",
      "no face detected! run original image\n",
      "no face detected! run original image\n"
     ]
    },
    {
     "name": "stderr",
     "output_type": "stream",
     "text": [
      " 50%|█████     | 2602/5164 [26:22<23:33,  1.81it/s]"
     ]
    },
    {
     "name": "stdout",
     "output_type": "stream",
     "text": [
      "no face detected! run original image\n",
      "no face detected! run original image\n",
      "no face detected! run original image\n",
      "no face detected! run original image\n"
     ]
    },
    {
     "name": "stderr",
     "output_type": "stream",
     "text": [
      " 50%|█████     | 2603/5164 [26:22<23:33,  1.81it/s]"
     ]
    },
    {
     "name": "stdout",
     "output_type": "stream",
     "text": [
      "no face detected! run original image\n",
      "no face detected! run original image\n",
      "no face detected! run original image\n",
      "no face detected! run original image\n"
     ]
    },
    {
     "name": "stderr",
     "output_type": "stream",
     "text": [
      " 50%|█████     | 2604/5164 [26:23<23:17,  1.83it/s]"
     ]
    },
    {
     "name": "stdout",
     "output_type": "stream",
     "text": [
      "no face detected! run original image\n",
      "no face detected! run original image\n",
      "no face detected! run original image\n",
      "no face detected! run original image\n"
     ]
    },
    {
     "name": "stderr",
     "output_type": "stream",
     "text": [
      " 50%|█████     | 2605/5164 [26:23<23:21,  1.83it/s]"
     ]
    },
    {
     "name": "stdout",
     "output_type": "stream",
     "text": [
      "no face detected! run original image\n",
      "no face detected! run original image\n",
      "no face detected! run original image\n",
      "no face detected! run original image\n"
     ]
    },
    {
     "name": "stderr",
     "output_type": "stream",
     "text": [
      " 50%|█████     | 2606/5164 [26:24<23:07,  1.84it/s]"
     ]
    },
    {
     "name": "stdout",
     "output_type": "stream",
     "text": [
      "no face detected! run original image\n",
      "no face detected! run original image\n",
      "no face detected! run original image\n",
      "no face detected! run original image\n"
     ]
    },
    {
     "name": "stderr",
     "output_type": "stream",
     "text": [
      " 50%|█████     | 2607/5164 [26:24<22:54,  1.86it/s]"
     ]
    },
    {
     "name": "stdout",
     "output_type": "stream",
     "text": [
      "no face detected! run original image\n",
      "no face detected! run original image\n",
      "no face detected! run original image\n",
      "no face detected! run original image\n"
     ]
    },
    {
     "name": "stderr",
     "output_type": "stream",
     "text": [
      " 51%|█████     | 2608/5164 [26:25<22:59,  1.85it/s]"
     ]
    },
    {
     "name": "stdout",
     "output_type": "stream",
     "text": [
      "no face detected! run original image\n",
      "no face detected! run original image\n",
      "no face detected! run original image\n",
      "no face detected! run original image\n"
     ]
    },
    {
     "name": "stderr",
     "output_type": "stream",
     "text": [
      " 51%|█████     | 2609/5164 [26:26<23:23,  1.82it/s]"
     ]
    },
    {
     "name": "stdout",
     "output_type": "stream",
     "text": [
      "no face detected! run original image\n",
      "no face detected! run original image\n",
      "no face detected! run original image\n",
      "no face detected! run original image\n"
     ]
    },
    {
     "name": "stderr",
     "output_type": "stream",
     "text": [
      " 51%|█████     | 2610/5164 [26:26<23:20,  1.82it/s]"
     ]
    },
    {
     "name": "stdout",
     "output_type": "stream",
     "text": [
      "no face detected! run original image\n",
      "no face detected! run original image\n",
      "no face detected! run original image\n",
      "no face detected! run original image\n"
     ]
    },
    {
     "name": "stderr",
     "output_type": "stream",
     "text": [
      " 51%|█████     | 2611/5164 [26:27<23:24,  1.82it/s]"
     ]
    },
    {
     "name": "stdout",
     "output_type": "stream",
     "text": [
      "no face detected! run original image\n",
      "no face detected! run original image\n",
      "no face detected! run original image\n",
      "no face detected! run original image\n"
     ]
    },
    {
     "name": "stderr",
     "output_type": "stream",
     "text": [
      " 51%|█████     | 2612/5164 [26:27<23:42,  1.79it/s]"
     ]
    },
    {
     "name": "stdout",
     "output_type": "stream",
     "text": [
      "no face detected! run original image\n",
      "no face detected! run original image\n",
      "no face detected! run original image\n",
      "no face detected! run original image\n"
     ]
    },
    {
     "name": "stderr",
     "output_type": "stream",
     "text": [
      " 51%|█████     | 2613/5164 [26:28<23:31,  1.81it/s]"
     ]
    },
    {
     "name": "stdout",
     "output_type": "stream",
     "text": [
      "no face detected! run original image\n",
      "no face detected! run original image\n",
      "no face detected! run original image\n",
      "no face detected! run original image\n"
     ]
    },
    {
     "name": "stderr",
     "output_type": "stream",
     "text": [
      " 51%|█████     | 2614/5164 [26:28<23:16,  1.83it/s]"
     ]
    },
    {
     "name": "stdout",
     "output_type": "stream",
     "text": [
      "no face detected! run original image\n",
      "no face detected! run original image\n",
      "no face detected! run original image\n",
      "no face detected! run original image\n"
     ]
    },
    {
     "name": "stderr",
     "output_type": "stream",
     "text": [
      " 51%|█████     | 2615/5164 [26:29<23:13,  1.83it/s]"
     ]
    },
    {
     "name": "stdout",
     "output_type": "stream",
     "text": [
      "no face detected! run original image\n",
      "no face detected! run original image\n",
      "no face detected! run original image\n",
      "no face detected! run original image\n"
     ]
    },
    {
     "name": "stderr",
     "output_type": "stream",
     "text": [
      " 51%|█████     | 2616/5164 [26:29<23:16,  1.82it/s]"
     ]
    },
    {
     "name": "stdout",
     "output_type": "stream",
     "text": [
      "no face detected! run original image\n",
      "no face detected! run original image\n",
      "no face detected! run original image\n",
      "no face detected! run original image\n"
     ]
    },
    {
     "name": "stderr",
     "output_type": "stream",
     "text": [
      " 51%|█████     | 2617/5164 [26:30<23:03,  1.84it/s]"
     ]
    },
    {
     "name": "stdout",
     "output_type": "stream",
     "text": [
      "no face detected! run original image\n",
      "no face detected! run original image\n",
      "no face detected! run original image\n",
      "no face detected! run original image\n"
     ]
    },
    {
     "name": "stderr",
     "output_type": "stream",
     "text": [
      " 51%|█████     | 2618/5164 [26:30<22:53,  1.85it/s]"
     ]
    },
    {
     "name": "stdout",
     "output_type": "stream",
     "text": [
      "no face detected! run original image\n",
      "no face detected! run original image\n",
      "no face detected! run original image\n",
      "no face detected! run original image\n"
     ]
    },
    {
     "name": "stderr",
     "output_type": "stream",
     "text": [
      " 51%|█████     | 2619/5164 [26:31<22:50,  1.86it/s]"
     ]
    },
    {
     "name": "stdout",
     "output_type": "stream",
     "text": [
      "no face detected! run original image\n",
      "no face detected! run original image\n",
      "no face detected! run original image\n",
      "no face detected! run original image\n"
     ]
    },
    {
     "name": "stderr",
     "output_type": "stream",
     "text": [
      " 51%|█████     | 2620/5164 [26:32<22:49,  1.86it/s]"
     ]
    },
    {
     "name": "stdout",
     "output_type": "stream",
     "text": [
      "no face detected! run original image\n",
      "no face detected! run original image\n",
      "no face detected! run original image\n",
      "no face detected! run original image\n"
     ]
    },
    {
     "name": "stderr",
     "output_type": "stream",
     "text": [
      " 51%|█████     | 2621/5164 [26:32<22:50,  1.86it/s]"
     ]
    },
    {
     "name": "stdout",
     "output_type": "stream",
     "text": [
      "no face detected! run original image\n",
      "no face detected! run original image\n",
      "no face detected! run original image\n",
      "no face detected! run original image\n"
     ]
    },
    {
     "name": "stderr",
     "output_type": "stream",
     "text": [
      " 51%|█████     | 2622/5164 [26:33<22:48,  1.86it/s]"
     ]
    },
    {
     "name": "stdout",
     "output_type": "stream",
     "text": [
      "no face detected! run original image\n",
      "no face detected! run original image\n",
      "no face detected! run original image\n",
      "no face detected! run original image\n"
     ]
    },
    {
     "name": "stderr",
     "output_type": "stream",
     "text": [
      " 51%|█████     | 2623/5164 [26:33<22:57,  1.84it/s]"
     ]
    },
    {
     "name": "stdout",
     "output_type": "stream",
     "text": [
      "no face detected! run original image\n",
      "no face detected! run original image\n",
      "no face detected! run original image\n",
      "no face detected! run original image\n"
     ]
    },
    {
     "name": "stderr",
     "output_type": "stream",
     "text": [
      " 51%|█████     | 2624/5164 [26:34<23:04,  1.84it/s]"
     ]
    },
    {
     "name": "stdout",
     "output_type": "stream",
     "text": [
      "no face detected! run original image\n",
      "no face detected! run original image\n",
      "no face detected! run original image\n",
      "no face detected! run original image\n"
     ]
    },
    {
     "name": "stderr",
     "output_type": "stream",
     "text": [
      " 51%|█████     | 2625/5164 [26:34<23:04,  1.83it/s]"
     ]
    },
    {
     "name": "stdout",
     "output_type": "stream",
     "text": [
      "no face detected! run original image\n",
      "no face detected! run original image\n",
      "no face detected! run original image\n",
      "no face detected! run original image\n"
     ]
    },
    {
     "name": "stderr",
     "output_type": "stream",
     "text": [
      " 51%|█████     | 2626/5164 [26:35<23:07,  1.83it/s]"
     ]
    },
    {
     "name": "stdout",
     "output_type": "stream",
     "text": [
      "no face detected! run original image\n",
      "no face detected! run original image\n",
      "no face detected! run original image\n",
      "no face detected! run original image\n"
     ]
    },
    {
     "name": "stderr",
     "output_type": "stream",
     "text": [
      " 51%|█████     | 2627/5164 [26:35<23:02,  1.84it/s]"
     ]
    },
    {
     "name": "stdout",
     "output_type": "stream",
     "text": [
      "no face detected! run original image\n",
      "no face detected! run original image\n",
      "no face detected! run original image\n",
      "no face detected! run original image\n"
     ]
    },
    {
     "name": "stderr",
     "output_type": "stream",
     "text": [
      " 51%|█████     | 2628/5164 [26:36<22:57,  1.84it/s]"
     ]
    },
    {
     "name": "stdout",
     "output_type": "stream",
     "text": [
      "no face detected! run original image\n",
      "no face detected! run original image\n",
      "no face detected! run original image\n",
      "no face detected! run original image\n"
     ]
    },
    {
     "name": "stderr",
     "output_type": "stream",
     "text": [
      " 51%|█████     | 2629/5164 [26:36<22:46,  1.85it/s]"
     ]
    },
    {
     "name": "stdout",
     "output_type": "stream",
     "text": [
      "no face detected! run original image\n",
      "no face detected! run original image\n",
      "no face detected! run original image\n",
      "no face detected! run original image\n"
     ]
    },
    {
     "name": "stderr",
     "output_type": "stream",
     "text": [
      " 51%|█████     | 2630/5164 [26:37<22:39,  1.86it/s]"
     ]
    },
    {
     "name": "stdout",
     "output_type": "stream",
     "text": [
      "no face detected! run original image\n",
      "no face detected! run original image\n",
      "no face detected! run original image\n",
      "no face detected! run original image\n"
     ]
    },
    {
     "name": "stderr",
     "output_type": "stream",
     "text": [
      " 51%|█████     | 2631/5164 [26:37<22:38,  1.86it/s]"
     ]
    },
    {
     "name": "stdout",
     "output_type": "stream",
     "text": [
      "no face detected! run original image\n",
      "no face detected! run original image\n",
      "no face detected! run original image\n",
      "no face detected! run original image\n"
     ]
    },
    {
     "name": "stderr",
     "output_type": "stream",
     "text": [
      " 51%|█████     | 2632/5164 [26:38<22:33,  1.87it/s]"
     ]
    },
    {
     "name": "stdout",
     "output_type": "stream",
     "text": [
      "no face detected! run original image\n",
      "no face detected! run original image\n",
      "no face detected! run original image\n",
      "no face detected! run original image\n"
     ]
    },
    {
     "name": "stderr",
     "output_type": "stream",
     "text": [
      " 51%|█████     | 2633/5164 [26:39<22:37,  1.86it/s]"
     ]
    },
    {
     "name": "stdout",
     "output_type": "stream",
     "text": [
      "no face detected! run original image\n",
      "no face detected! run original image\n",
      "no face detected! run original image\n",
      "no face detected! run original image\n"
     ]
    },
    {
     "name": "stderr",
     "output_type": "stream",
     "text": [
      " 51%|█████     | 2634/5164 [26:39<22:45,  1.85it/s]"
     ]
    },
    {
     "name": "stdout",
     "output_type": "stream",
     "text": [
      "no face detected! run original image\n",
      "no face detected! run original image\n",
      "no face detected! run original image\n",
      "no face detected! run original image\n"
     ]
    },
    {
     "name": "stderr",
     "output_type": "stream",
     "text": [
      " 51%|█████     | 2635/5164 [26:40<22:44,  1.85it/s]"
     ]
    },
    {
     "name": "stdout",
     "output_type": "stream",
     "text": [
      "no face detected! run original image\n",
      "no face detected! run original image\n",
      "no face detected! run original image\n",
      "no face detected! run original image\n"
     ]
    },
    {
     "name": "stderr",
     "output_type": "stream",
     "text": [
      " 51%|█████     | 2636/5164 [26:40<22:58,  1.83it/s]"
     ]
    },
    {
     "name": "stdout",
     "output_type": "stream",
     "text": [
      "no face detected! run original image\n",
      "no face detected! run original image\n",
      "no face detected! run original image\n",
      "no face detected! run original image\n"
     ]
    },
    {
     "name": "stderr",
     "output_type": "stream",
     "text": [
      " 51%|█████     | 2637/5164 [26:41<22:51,  1.84it/s]"
     ]
    },
    {
     "name": "stdout",
     "output_type": "stream",
     "text": [
      "no face detected! run original image\n",
      "no face detected! run original image\n",
      "no face detected! run original image\n",
      "no face detected! run original image\n"
     ]
    },
    {
     "name": "stderr",
     "output_type": "stream",
     "text": [
      " 51%|█████     | 2638/5164 [26:41<22:46,  1.85it/s]"
     ]
    },
    {
     "name": "stdout",
     "output_type": "stream",
     "text": [
      "no face detected! run original image\n",
      "no face detected! run original image\n",
      "no face detected! run original image\n",
      "no face detected! run original image\n"
     ]
    },
    {
     "name": "stderr",
     "output_type": "stream",
     "text": [
      " 51%|█████     | 2639/5164 [26:42<22:34,  1.86it/s]"
     ]
    },
    {
     "name": "stdout",
     "output_type": "stream",
     "text": [
      "no face detected! run original image\n",
      "no face detected! run original image\n",
      "no face detected! run original image\n",
      "no face detected! run original image\n"
     ]
    },
    {
     "name": "stderr",
     "output_type": "stream",
     "text": [
      " 51%|█████     | 2640/5164 [26:42<22:29,  1.87it/s]"
     ]
    },
    {
     "name": "stdout",
     "output_type": "stream",
     "text": [
      "no face detected! run original image\n",
      "no face detected! run original image\n",
      "no face detected! run original image\n",
      "no face detected! run original image\n"
     ]
    },
    {
     "name": "stderr",
     "output_type": "stream",
     "text": [
      " 51%|█████     | 2641/5164 [26:43<22:29,  1.87it/s]"
     ]
    },
    {
     "name": "stdout",
     "output_type": "stream",
     "text": [
      "no face detected! run original image\n",
      "no face detected! run original image\n",
      "no face detected! run original image\n",
      "no face detected! run original image\n"
     ]
    },
    {
     "name": "stderr",
     "output_type": "stream",
     "text": [
      " 51%|█████     | 2642/5164 [26:43<22:31,  1.87it/s]"
     ]
    },
    {
     "name": "stdout",
     "output_type": "stream",
     "text": [
      "no face detected! run original image\n",
      "no face detected! run original image\n",
      "no face detected! run original image\n",
      "no face detected! run original image\n"
     ]
    },
    {
     "name": "stderr",
     "output_type": "stream",
     "text": [
      " 51%|█████     | 2643/5164 [26:44<22:37,  1.86it/s]"
     ]
    },
    {
     "name": "stdout",
     "output_type": "stream",
     "text": [
      "no face detected! run original image\n",
      "no face detected! run original image\n",
      "no face detected! run original image\n",
      "no face detected! run original image\n"
     ]
    },
    {
     "name": "stderr",
     "output_type": "stream",
     "text": [
      " 51%|█████     | 2644/5164 [26:44<22:44,  1.85it/s]"
     ]
    },
    {
     "name": "stdout",
     "output_type": "stream",
     "text": [
      "no face detected! run original image\n",
      "no face detected! run original image\n",
      "no face detected! run original image\n",
      "no face detected! run original image\n"
     ]
    },
    {
     "name": "stderr",
     "output_type": "stream",
     "text": [
      " 51%|█████     | 2645/5164 [26:45<22:54,  1.83it/s]"
     ]
    },
    {
     "name": "stdout",
     "output_type": "stream",
     "text": [
      "no face detected! run original image\n",
      "no face detected! run original image\n",
      "no face detected! run original image\n",
      "no face detected! run original image\n"
     ]
    },
    {
     "name": "stderr",
     "output_type": "stream",
     "text": [
      " 51%|█████     | 2646/5164 [26:46<22:38,  1.85it/s]"
     ]
    },
    {
     "name": "stdout",
     "output_type": "stream",
     "text": [
      "no face detected! run original image\n",
      "no face detected! run original image\n",
      "no face detected! run original image\n",
      "no face detected! run original image\n"
     ]
    },
    {
     "name": "stderr",
     "output_type": "stream",
     "text": [
      " 51%|█████▏    | 2647/5164 [26:46<22:40,  1.85it/s]"
     ]
    },
    {
     "name": "stdout",
     "output_type": "stream",
     "text": [
      "no face detected! run original image\n",
      "no face detected! run original image\n",
      "no face detected! run original image\n",
      "no face detected! run original image\n"
     ]
    },
    {
     "name": "stderr",
     "output_type": "stream",
     "text": [
      " 51%|█████▏    | 2648/5164 [26:47<22:40,  1.85it/s]"
     ]
    },
    {
     "name": "stdout",
     "output_type": "stream",
     "text": [
      "no face detected! run original image\n",
      "no face detected! run original image\n",
      "no face detected! run original image\n",
      "no face detected! run original image\n"
     ]
    },
    {
     "name": "stderr",
     "output_type": "stream",
     "text": [
      " 51%|█████▏    | 2649/5164 [26:47<22:46,  1.84it/s]"
     ]
    },
    {
     "name": "stdout",
     "output_type": "stream",
     "text": [
      "no face detected! run original image\n",
      "no face detected! run original image\n",
      "no face detected! run original image\n",
      "no face detected! run original image\n"
     ]
    },
    {
     "name": "stderr",
     "output_type": "stream",
     "text": [
      " 51%|█████▏    | 2650/5164 [26:48<22:40,  1.85it/s]"
     ]
    },
    {
     "name": "stdout",
     "output_type": "stream",
     "text": [
      "no face detected! run original image\n",
      "no face detected! run original image\n",
      "no face detected! run original image\n",
      "no face detected! run original image\n"
     ]
    },
    {
     "name": "stderr",
     "output_type": "stream",
     "text": [
      " 51%|█████▏    | 2651/5164 [26:48<22:42,  1.84it/s]"
     ]
    },
    {
     "name": "stdout",
     "output_type": "stream",
     "text": [
      "no face detected! run original image\n",
      "no face detected! run original image\n",
      "no face detected! run original image\n",
      "no face detected! run original image\n"
     ]
    },
    {
     "name": "stderr",
     "output_type": "stream",
     "text": [
      " 51%|█████▏    | 2652/5164 [26:49<22:39,  1.85it/s]"
     ]
    },
    {
     "name": "stdout",
     "output_type": "stream",
     "text": [
      "no face detected! run original image\n",
      "no face detected! run original image\n",
      "no face detected! run original image\n",
      "no face detected! run original image\n"
     ]
    },
    {
     "name": "stderr",
     "output_type": "stream",
     "text": [
      " 51%|█████▏    | 2653/5164 [26:49<22:38,  1.85it/s]"
     ]
    },
    {
     "name": "stdout",
     "output_type": "stream",
     "text": [
      "no face detected! run original image\n",
      "no face detected! run original image\n",
      "no face detected! run original image\n",
      "no face detected! run original image\n"
     ]
    },
    {
     "name": "stderr",
     "output_type": "stream",
     "text": [
      " 51%|█████▏    | 2654/5164 [26:50<22:38,  1.85it/s]"
     ]
    },
    {
     "name": "stdout",
     "output_type": "stream",
     "text": [
      "no face detected! run original image\n",
      "no face detected! run original image\n",
      "no face detected! run original image\n",
      "no face detected! run original image\n"
     ]
    },
    {
     "name": "stderr",
     "output_type": "stream",
     "text": [
      " 51%|█████▏    | 2655/5164 [26:50<22:28,  1.86it/s]"
     ]
    },
    {
     "name": "stdout",
     "output_type": "stream",
     "text": [
      "no face detected! run original image\n",
      "no face detected! run original image\n",
      "no face detected! run original image\n",
      "no face detected! run original image\n"
     ]
    },
    {
     "name": "stderr",
     "output_type": "stream",
     "text": [
      " 51%|█████▏    | 2656/5164 [26:51<22:24,  1.87it/s]"
     ]
    },
    {
     "name": "stdout",
     "output_type": "stream",
     "text": [
      "no face detected! run original image\n",
      "no face detected! run original image\n",
      "no face detected! run original image\n",
      "no face detected! run original image\n"
     ]
    },
    {
     "name": "stderr",
     "output_type": "stream",
     "text": [
      " 51%|█████▏    | 2657/5164 [26:51<22:27,  1.86it/s]"
     ]
    },
    {
     "name": "stdout",
     "output_type": "stream",
     "text": [
      "no face detected! run original image\n",
      "no face detected! run original image\n",
      "no face detected! run original image\n",
      "no face detected! run original image\n"
     ]
    },
    {
     "name": "stderr",
     "output_type": "stream",
     "text": [
      " 51%|█████▏    | 2658/5164 [26:52<22:25,  1.86it/s]"
     ]
    },
    {
     "name": "stdout",
     "output_type": "stream",
     "text": [
      "no face detected! run original image\n",
      "no face detected! run original image\n",
      "no face detected! run original image\n",
      "no face detected! run original image\n"
     ]
    },
    {
     "name": "stderr",
     "output_type": "stream",
     "text": [
      " 51%|█████▏    | 2659/5164 [26:53<22:20,  1.87it/s]"
     ]
    },
    {
     "name": "stdout",
     "output_type": "stream",
     "text": [
      "no face detected! run original image\n",
      "no face detected! run original image\n",
      "no face detected! run original image\n",
      "no face detected! run original image\n"
     ]
    },
    {
     "name": "stderr",
     "output_type": "stream",
     "text": [
      " 52%|█████▏    | 2660/5164 [26:53<22:17,  1.87it/s]"
     ]
    },
    {
     "name": "stdout",
     "output_type": "stream",
     "text": [
      "no face detected! run original image\n",
      "no face detected! run original image\n",
      "no face detected! run original image\n",
      "no face detected! run original image\n"
     ]
    },
    {
     "name": "stderr",
     "output_type": "stream",
     "text": [
      " 52%|█████▏    | 2661/5164 [26:54<22:15,  1.87it/s]"
     ]
    },
    {
     "name": "stdout",
     "output_type": "stream",
     "text": [
      "no face detected! run original image\n",
      "no face detected! run original image\n",
      "no face detected! run original image\n",
      "no face detected! run original image\n"
     ]
    },
    {
     "name": "stderr",
     "output_type": "stream",
     "text": [
      " 52%|█████▏    | 2662/5164 [26:54<22:18,  1.87it/s]"
     ]
    },
    {
     "name": "stdout",
     "output_type": "stream",
     "text": [
      "no face detected! run original image\n",
      "no face detected! run original image\n",
      "no face detected! run original image\n",
      "no face detected! run original image\n"
     ]
    },
    {
     "name": "stderr",
     "output_type": "stream",
     "text": [
      " 52%|█████▏    | 2663/5164 [26:55<22:17,  1.87it/s]"
     ]
    },
    {
     "name": "stdout",
     "output_type": "stream",
     "text": [
      "no face detected! run original image\n",
      "no face detected! run original image\n",
      "no face detected! run original image\n",
      "no face detected! run original image\n"
     ]
    },
    {
     "name": "stderr",
     "output_type": "stream",
     "text": [
      " 98%|█████████▊| 5073/5164 [52:17<00:53,  1.69it/s]"
     ]
    },
    {
     "name": "stdout",
     "output_type": "stream",
     "text": [
      "no face detected! run original image\n",
      "no face detected! run original image\n",
      "no face detected! run original image\n",
      "no face detected! run original image\n"
     ]
    },
    {
     "name": "stderr",
     "output_type": "stream",
     "text": [
      " 98%|█████████▊| 5074/5164 [52:18<00:51,  1.75it/s]"
     ]
    },
    {
     "name": "stdout",
     "output_type": "stream",
     "text": [
      "no face detected! run original image\n",
      "no face detected! run original image\n",
      "no face detected! run original image\n",
      "no face detected! run original image\n"
     ]
    },
    {
     "name": "stderr",
     "output_type": "stream",
     "text": [
      " 98%|█████████▊| 5075/5164 [52:19<00:49,  1.79it/s]"
     ]
    },
    {
     "name": "stdout",
     "output_type": "stream",
     "text": [
      "no face detected! run original image\n",
      "no face detected! run original image\n",
      "no face detected! run original image\n",
      "no face detected! run original image\n"
     ]
    },
    {
     "name": "stderr",
     "output_type": "stream",
     "text": [
      " 98%|█████████▊| 5076/5164 [52:19<00:48,  1.83it/s]"
     ]
    },
    {
     "name": "stdout",
     "output_type": "stream",
     "text": [
      "no face detected! run original image\n",
      "no face detected! run original image\n",
      "no face detected! run original image\n",
      "no face detected! run original image\n"
     ]
    },
    {
     "name": "stderr",
     "output_type": "stream",
     "text": [
      " 98%|█████████▊| 5077/5164 [52:20<00:46,  1.86it/s]"
     ]
    },
    {
     "name": "stdout",
     "output_type": "stream",
     "text": [
      "no face detected! run original image\n",
      "no face detected! run original image\n",
      "no face detected! run original image\n",
      "no face detected! run original image\n"
     ]
    },
    {
     "name": "stderr",
     "output_type": "stream",
     "text": [
      " 98%|█████████▊| 5078/5164 [52:20<00:45,  1.87it/s]"
     ]
    },
    {
     "name": "stdout",
     "output_type": "stream",
     "text": [
      "no face detected! run original image\n",
      "no face detected! run original image\n",
      "no face detected! run original image\n",
      "no face detected! run original image\n"
     ]
    },
    {
     "name": "stderr",
     "output_type": "stream",
     "text": [
      " 98%|█████████▊| 5079/5164 [52:21<00:45,  1.88it/s]"
     ]
    },
    {
     "name": "stdout",
     "output_type": "stream",
     "text": [
      "no face detected! run original image\n",
      "no face detected! run original image\n",
      "no face detected! run original image\n",
      "no face detected! run original image\n"
     ]
    },
    {
     "name": "stderr",
     "output_type": "stream",
     "text": [
      " 98%|█████████▊| 5080/5164 [52:21<00:44,  1.90it/s]"
     ]
    },
    {
     "name": "stdout",
     "output_type": "stream",
     "text": [
      "no face detected! run original image\n",
      "no face detected! run original image\n",
      "no face detected! run original image\n",
      "no face detected! run original image\n"
     ]
    },
    {
     "name": "stderr",
     "output_type": "stream",
     "text": [
      " 98%|█████████▊| 5081/5164 [52:22<00:43,  1.91it/s]"
     ]
    },
    {
     "name": "stdout",
     "output_type": "stream",
     "text": [
      "no face detected! run original image\n",
      "no face detected! run original image\n",
      "no face detected! run original image\n",
      "no face detected! run original image\n"
     ]
    },
    {
     "name": "stderr",
     "output_type": "stream",
     "text": [
      " 98%|█████████▊| 5082/5164 [52:22<00:46,  1.78it/s]"
     ]
    },
    {
     "name": "stdout",
     "output_type": "stream",
     "text": [
      "no face detected! run original image\n",
      "no face detected! run original image\n",
      "no face detected! run original image\n",
      "no face detected! run original image\n"
     ]
    },
    {
     "name": "stderr",
     "output_type": "stream",
     "text": [
      " 98%|█████████▊| 5083/5164 [52:23<00:44,  1.82it/s]"
     ]
    },
    {
     "name": "stdout",
     "output_type": "stream",
     "text": [
      "no face detected! run original image\n",
      "no face detected! run original image\n",
      "no face detected! run original image\n",
      "no face detected! run original image\n"
     ]
    },
    {
     "name": "stderr",
     "output_type": "stream",
     "text": [
      " 98%|█████████▊| 5084/5164 [52:23<00:43,  1.84it/s]"
     ]
    },
    {
     "name": "stdout",
     "output_type": "stream",
     "text": [
      "no face detected! run original image\n",
      "no face detected! run original image\n",
      "no face detected! run original image\n",
      "no face detected! run original image\n"
     ]
    },
    {
     "name": "stderr",
     "output_type": "stream",
     "text": [
      " 98%|█████████▊| 5085/5164 [52:24<00:42,  1.86it/s]"
     ]
    },
    {
     "name": "stdout",
     "output_type": "stream",
     "text": [
      "no face detected! run original image\n",
      "no face detected! run original image\n",
      "no face detected! run original image\n",
      "no face detected! run original image\n"
     ]
    },
    {
     "name": "stderr",
     "output_type": "stream",
     "text": [
      " 98%|█████████▊| 5086/5164 [52:24<00:41,  1.87it/s]"
     ]
    },
    {
     "name": "stdout",
     "output_type": "stream",
     "text": [
      "no face detected! run original image\n",
      "no face detected! run original image\n",
      "no face detected! run original image\n",
      "no face detected! run original image\n"
     ]
    },
    {
     "name": "stderr",
     "output_type": "stream",
     "text": [
      " 99%|█████████▊| 5087/5164 [52:25<00:41,  1.84it/s]"
     ]
    },
    {
     "name": "stdout",
     "output_type": "stream",
     "text": [
      "no face detected! run original image\n",
      "no face detected! run original image\n",
      "no face detected! run original image\n",
      "no face detected! run original image\n"
     ]
    },
    {
     "name": "stderr",
     "output_type": "stream",
     "text": [
      " 99%|█████████▊| 5088/5164 [52:25<00:41,  1.85it/s]"
     ]
    },
    {
     "name": "stdout",
     "output_type": "stream",
     "text": [
      "no face detected! run original image\n",
      "no face detected! run original image\n",
      "no face detected! run original image\n",
      "no face detected! run original image\n"
     ]
    },
    {
     "name": "stderr",
     "output_type": "stream",
     "text": [
      " 99%|█████████▊| 5089/5164 [52:26<00:40,  1.87it/s]"
     ]
    },
    {
     "name": "stdout",
     "output_type": "stream",
     "text": [
      "no face detected! run original image\n",
      "no face detected! run original image\n",
      "no face detected! run original image\n",
      "no face detected! run original image\n"
     ]
    },
    {
     "name": "stderr",
     "output_type": "stream",
     "text": [
      " 99%|█████████▊| 5090/5164 [52:27<00:39,  1.88it/s]"
     ]
    },
    {
     "name": "stdout",
     "output_type": "stream",
     "text": [
      "no face detected! run original image\n",
      "no face detected! run original image\n",
      "no face detected! run original image\n",
      "no face detected! run original image\n"
     ]
    },
    {
     "name": "stderr",
     "output_type": "stream",
     "text": [
      " 99%|█████████▊| 5091/5164 [52:27<00:38,  1.88it/s]"
     ]
    },
    {
     "name": "stdout",
     "output_type": "stream",
     "text": [
      "no face detected! run original image\n",
      "no face detected! run original image\n",
      "no face detected! run original image\n",
      "no face detected! run original image\n"
     ]
    },
    {
     "name": "stderr",
     "output_type": "stream",
     "text": [
      " 99%|█████████▊| 5092/5164 [52:28<00:38,  1.88it/s]"
     ]
    },
    {
     "name": "stdout",
     "output_type": "stream",
     "text": [
      "no face detected! run original image\n",
      "no face detected! run original image\n",
      "no face detected! run original image\n",
      "no face detected! run original image\n"
     ]
    },
    {
     "name": "stderr",
     "output_type": "stream",
     "text": [
      " 99%|█████████▊| 5093/5164 [52:28<00:37,  1.89it/s]"
     ]
    },
    {
     "name": "stdout",
     "output_type": "stream",
     "text": [
      "no face detected! run original image\n",
      "no face detected! run original image\n",
      "no face detected! run original image\n",
      "no face detected! run original image\n"
     ]
    },
    {
     "name": "stderr",
     "output_type": "stream",
     "text": [
      " 99%|█████████▊| 5094/5164 [52:29<00:37,  1.85it/s]"
     ]
    },
    {
     "name": "stdout",
     "output_type": "stream",
     "text": [
      "no face detected! run original image\n",
      "no face detected! run original image\n",
      "no face detected! run original image\n",
      "no face detected! run original image\n"
     ]
    },
    {
     "name": "stderr",
     "output_type": "stream",
     "text": [
      " 99%|█████████▊| 5095/5164 [52:29<00:37,  1.84it/s]"
     ]
    },
    {
     "name": "stdout",
     "output_type": "stream",
     "text": [
      "no face detected! run original image\n",
      "no face detected! run original image\n",
      "no face detected! run original image\n",
      "no face detected! run original image\n"
     ]
    },
    {
     "name": "stderr",
     "output_type": "stream",
     "text": [
      " 99%|█████████▊| 5096/5164 [52:30<00:36,  1.86it/s]"
     ]
    },
    {
     "name": "stdout",
     "output_type": "stream",
     "text": [
      "no face detected! run original image\n",
      "no face detected! run original image\n",
      "no face detected! run original image\n",
      "no face detected! run original image\n"
     ]
    },
    {
     "name": "stderr",
     "output_type": "stream",
     "text": [
      " 99%|█████████▊| 5097/5164 [52:30<00:35,  1.87it/s]"
     ]
    },
    {
     "name": "stdout",
     "output_type": "stream",
     "text": [
      "no face detected! run original image\n",
      "no face detected! run original image\n",
      "no face detected! run original image\n",
      "no face detected! run original image\n"
     ]
    },
    {
     "name": "stderr",
     "output_type": "stream",
     "text": [
      " 99%|█████████▊| 5098/5164 [52:31<00:35,  1.88it/s]"
     ]
    },
    {
     "name": "stdout",
     "output_type": "stream",
     "text": [
      "no face detected! run original image\n",
      "no face detected! run original image\n",
      "no face detected! run original image\n",
      "no face detected! run original image\n"
     ]
    },
    {
     "name": "stderr",
     "output_type": "stream",
     "text": [
      " 99%|█████████▊| 5099/5164 [52:31<00:34,  1.88it/s]"
     ]
    },
    {
     "name": "stdout",
     "output_type": "stream",
     "text": [
      "no face detected! run original image\n",
      "no face detected! run original image\n",
      "no face detected! run original image\n",
      "no face detected! run original image\n"
     ]
    },
    {
     "name": "stderr",
     "output_type": "stream",
     "text": [
      " 99%|█████████▉| 5100/5164 [52:32<00:33,  1.89it/s]"
     ]
    },
    {
     "name": "stdout",
     "output_type": "stream",
     "text": [
      "no face detected! run original image\n",
      "no face detected! run original image\n",
      "no face detected! run original image\n",
      "no face detected! run original image\n"
     ]
    },
    {
     "name": "stderr",
     "output_type": "stream",
     "text": [
      " 99%|█████████▉| 5101/5164 [52:32<00:33,  1.89it/s]"
     ]
    },
    {
     "name": "stdout",
     "output_type": "stream",
     "text": [
      "no face detected! run original image\n",
      "no face detected! run original image\n",
      "no face detected! run original image\n",
      "no face detected! run original image\n"
     ]
    },
    {
     "name": "stderr",
     "output_type": "stream",
     "text": [
      " 99%|█████████▉| 5102/5164 [52:33<00:33,  1.86it/s]"
     ]
    },
    {
     "name": "stdout",
     "output_type": "stream",
     "text": [
      "no face detected! run original image\n",
      "no face detected! run original image\n",
      "no face detected! run original image\n",
      "no face detected! run original image\n"
     ]
    },
    {
     "name": "stderr",
     "output_type": "stream",
     "text": [
      " 99%|█████████▉| 5103/5164 [52:33<00:32,  1.87it/s]"
     ]
    },
    {
     "name": "stdout",
     "output_type": "stream",
     "text": [
      "no face detected! run original image\n",
      "no face detected! run original image\n",
      "no face detected! run original image\n",
      "no face detected! run original image\n"
     ]
    },
    {
     "name": "stderr",
     "output_type": "stream",
     "text": [
      " 99%|█████████▉| 5104/5164 [52:34<00:32,  1.87it/s]"
     ]
    },
    {
     "name": "stdout",
     "output_type": "stream",
     "text": [
      "no face detected! run original image\n",
      "no face detected! run original image\n",
      "no face detected! run original image\n",
      "no face detected! run original image\n"
     ]
    },
    {
     "name": "stderr",
     "output_type": "stream",
     "text": [
      " 99%|█████████▉| 5105/5164 [52:35<00:31,  1.86it/s]"
     ]
    },
    {
     "name": "stdout",
     "output_type": "stream",
     "text": [
      "no face detected! run original image\n",
      "no face detected! run original image\n",
      "no face detected! run original image\n",
      "no face detected! run original image\n"
     ]
    },
    {
     "name": "stderr",
     "output_type": "stream",
     "text": [
      " 99%|█████████▉| 5106/5164 [52:35<00:31,  1.87it/s]"
     ]
    },
    {
     "name": "stdout",
     "output_type": "stream",
     "text": [
      "no face detected! run original image\n",
      "no face detected! run original image\n",
      "no face detected! run original image\n",
      "no face detected! run original image\n"
     ]
    },
    {
     "name": "stderr",
     "output_type": "stream",
     "text": [
      " 99%|█████████▉| 5107/5164 [52:36<00:30,  1.88it/s]"
     ]
    },
    {
     "name": "stdout",
     "output_type": "stream",
     "text": [
      "no face detected! run original image\n",
      "no face detected! run original image\n",
      "no face detected! run original image\n",
      "no face detected! run original image\n"
     ]
    },
    {
     "name": "stderr",
     "output_type": "stream",
     "text": [
      " 99%|█████████▉| 5108/5164 [52:36<00:30,  1.85it/s]"
     ]
    },
    {
     "name": "stdout",
     "output_type": "stream",
     "text": [
      "no face detected! run original image\n",
      "no face detected! run original image\n",
      "no face detected! run original image\n",
      "no face detected! run original image\n"
     ]
    },
    {
     "name": "stderr",
     "output_type": "stream",
     "text": [
      " 99%|█████████▉| 5109/5164 [52:37<00:29,  1.84it/s]"
     ]
    },
    {
     "name": "stdout",
     "output_type": "stream",
     "text": [
      "no face detected! run original image\n",
      "no face detected! run original image\n",
      "no face detected! run original image\n",
      "no face detected! run original image\n"
     ]
    },
    {
     "name": "stderr",
     "output_type": "stream",
     "text": [
      " 99%|█████████▉| 5110/5164 [52:37<00:29,  1.84it/s]"
     ]
    },
    {
     "name": "stdout",
     "output_type": "stream",
     "text": [
      "no face detected! run original image\n",
      "no face detected! run original image\n",
      "no face detected! run original image\n",
      "no face detected! run original image\n"
     ]
    },
    {
     "name": "stderr",
     "output_type": "stream",
     "text": [
      " 99%|█████████▉| 5111/5164 [52:38<00:28,  1.86it/s]"
     ]
    },
    {
     "name": "stdout",
     "output_type": "stream",
     "text": [
      "no face detected! run original image\n",
      "no face detected! run original image\n",
      "no face detected! run original image\n",
      "no face detected! run original image\n"
     ]
    },
    {
     "name": "stderr",
     "output_type": "stream",
     "text": [
      " 99%|█████████▉| 5112/5164 [52:38<00:28,  1.81it/s]"
     ]
    },
    {
     "name": "stdout",
     "output_type": "stream",
     "text": [
      "no face detected! run original image\n",
      "no face detected! run original image\n",
      "no face detected! run original image\n",
      "no face detected! run original image\n"
     ]
    },
    {
     "name": "stderr",
     "output_type": "stream",
     "text": [
      " 99%|█████████▉| 5113/5164 [52:39<00:27,  1.84it/s]"
     ]
    },
    {
     "name": "stdout",
     "output_type": "stream",
     "text": [
      "no face detected! run original image\n",
      "no face detected! run original image\n",
      "no face detected! run original image\n",
      "no face detected! run original image\n"
     ]
    },
    {
     "name": "stderr",
     "output_type": "stream",
     "text": [
      " 99%|█████████▉| 5114/5164 [52:39<00:27,  1.84it/s]"
     ]
    },
    {
     "name": "stdout",
     "output_type": "stream",
     "text": [
      "no face detected! run original image\n",
      "no face detected! run original image\n",
      "no face detected! run original image\n",
      "no face detected! run original image\n"
     ]
    },
    {
     "name": "stderr",
     "output_type": "stream",
     "text": [
      " 99%|█████████▉| 5115/5164 [52:40<00:26,  1.86it/s]"
     ]
    },
    {
     "name": "stdout",
     "output_type": "stream",
     "text": [
      "no face detected! run original image\n",
      "no face detected! run original image\n",
      "no face detected! run original image\n",
      "no face detected! run original image\n"
     ]
    },
    {
     "name": "stderr",
     "output_type": "stream",
     "text": [
      " 99%|█████████▉| 5116/5164 [52:40<00:25,  1.88it/s]"
     ]
    },
    {
     "name": "stdout",
     "output_type": "stream",
     "text": [
      "no face detected! run original image\n",
      "no face detected! run original image\n",
      "no face detected! run original image\n",
      "no face detected! run original image\n"
     ]
    },
    {
     "name": "stderr",
     "output_type": "stream",
     "text": [
      " 99%|█████████▉| 5117/5164 [52:41<00:24,  1.89it/s]"
     ]
    },
    {
     "name": "stdout",
     "output_type": "stream",
     "text": [
      "no face detected! run original image\n",
      "no face detected! run original image\n",
      "no face detected! run original image\n",
      "no face detected! run original image\n"
     ]
    },
    {
     "name": "stderr",
     "output_type": "stream",
     "text": [
      " 99%|█████████▉| 5118/5164 [52:42<00:24,  1.89it/s]"
     ]
    },
    {
     "name": "stdout",
     "output_type": "stream",
     "text": [
      "no face detected! run original image\n",
      "no face detected! run original image\n",
      "no face detected! run original image\n",
      "no face detected! run original image\n"
     ]
    },
    {
     "name": "stderr",
     "output_type": "stream",
     "text": [
      " 99%|█████████▉| 5119/5164 [52:42<00:23,  1.88it/s]"
     ]
    },
    {
     "name": "stdout",
     "output_type": "stream",
     "text": [
      "no face detected! run original image\n",
      "no face detected! run original image\n",
      "no face detected! run original image\n",
      "no face detected! run original image\n"
     ]
    },
    {
     "name": "stderr",
     "output_type": "stream",
     "text": [
      " 99%|█████████▉| 5120/5164 [52:43<00:23,  1.88it/s]"
     ]
    },
    {
     "name": "stdout",
     "output_type": "stream",
     "text": [
      "no face detected! run original image\n",
      "no face detected! run original image\n",
      "no face detected! run original image\n",
      "no face detected! run original image\n"
     ]
    },
    {
     "name": "stderr",
     "output_type": "stream",
     "text": [
      " 99%|█████████▉| 5121/5164 [52:43<00:22,  1.88it/s]"
     ]
    },
    {
     "name": "stdout",
     "output_type": "stream",
     "text": [
      "no face detected! run original image\n",
      "no face detected! run original image\n",
      "no face detected! run original image\n",
      "no face detected! run original image\n"
     ]
    },
    {
     "name": "stderr",
     "output_type": "stream",
     "text": [
      " 99%|█████████▉| 5122/5164 [52:44<00:22,  1.89it/s]"
     ]
    },
    {
     "name": "stdout",
     "output_type": "stream",
     "text": [
      "no face detected! run original image\n",
      "no face detected! run original image\n",
      "no face detected! run original image\n",
      "no face detected! run original image\n"
     ]
    },
    {
     "name": "stderr",
     "output_type": "stream",
     "text": [
      " 99%|█████████▉| 5123/5164 [52:44<00:21,  1.90it/s]"
     ]
    },
    {
     "name": "stdout",
     "output_type": "stream",
     "text": [
      "no face detected! run original image\n",
      "no face detected! run original image\n",
      "no face detected! run original image\n",
      "no face detected! run original image\n"
     ]
    },
    {
     "name": "stderr",
     "output_type": "stream",
     "text": [
      " 99%|█████████▉| 5124/5164 [52:45<00:21,  1.90it/s]"
     ]
    },
    {
     "name": "stdout",
     "output_type": "stream",
     "text": [
      "no face detected! run original image\n",
      "no face detected! run original image\n",
      "no face detected! run original image\n",
      "no face detected! run original image\n"
     ]
    },
    {
     "name": "stderr",
     "output_type": "stream",
     "text": [
      " 99%|█████████▉| 5125/5164 [52:46<00:23,  1.65it/s]"
     ]
    },
    {
     "name": "stdout",
     "output_type": "stream",
     "text": [
      "no face detected! run original image\n",
      "no face detected! run original image\n",
      "no face detected! run original image\n",
      "no face detected! run original image\n"
     ]
    },
    {
     "name": "stderr",
     "output_type": "stream",
     "text": [
      " 99%|█████████▉| 5126/5164 [52:46<00:22,  1.72it/s]"
     ]
    },
    {
     "name": "stdout",
     "output_type": "stream",
     "text": [
      "no face detected! run original image\n",
      "no face detected! run original image\n",
      "no face detected! run original image\n",
      "no face detected! run original image\n"
     ]
    },
    {
     "name": "stderr",
     "output_type": "stream",
     "text": [
      " 99%|█████████▉| 5127/5164 [52:47<00:20,  1.77it/s]"
     ]
    },
    {
     "name": "stdout",
     "output_type": "stream",
     "text": [
      "no face detected! run original image\n",
      "no face detected! run original image\n",
      "no face detected! run original image\n",
      "no face detected! run original image\n"
     ]
    },
    {
     "name": "stderr",
     "output_type": "stream",
     "text": [
      " 99%|█████████▉| 5128/5164 [52:47<00:19,  1.82it/s]"
     ]
    },
    {
     "name": "stdout",
     "output_type": "stream",
     "text": [
      "no face detected! run original image\n",
      "no face detected! run original image\n",
      "no face detected! run original image\n",
      "no face detected! run original image\n"
     ]
    },
    {
     "name": "stderr",
     "output_type": "stream",
     "text": [
      " 99%|█████████▉| 5129/5164 [52:48<00:18,  1.85it/s]"
     ]
    },
    {
     "name": "stdout",
     "output_type": "stream",
     "text": [
      "no face detected! run original image\n",
      "no face detected! run original image\n",
      "no face detected! run original image\n",
      "no face detected! run original image\n"
     ]
    },
    {
     "name": "stderr",
     "output_type": "stream",
     "text": [
      " 99%|█████████▉| 5130/5164 [52:48<00:18,  1.87it/s]"
     ]
    },
    {
     "name": "stdout",
     "output_type": "stream",
     "text": [
      "no face detected! run original image\n",
      "no face detected! run original image\n",
      "no face detected! run original image\n",
      "no face detected! run original image\n"
     ]
    },
    {
     "name": "stderr",
     "output_type": "stream",
     "text": [
      " 99%|█████████▉| 5131/5164 [52:49<00:17,  1.87it/s]"
     ]
    },
    {
     "name": "stdout",
     "output_type": "stream",
     "text": [
      "no face detected! run original image\n",
      "no face detected! run original image\n",
      "no face detected! run original image\n",
      "no face detected! run original image\n"
     ]
    },
    {
     "name": "stderr",
     "output_type": "stream",
     "text": [
      " 99%|█████████▉| 5132/5164 [52:49<00:17,  1.87it/s]"
     ]
    },
    {
     "name": "stdout",
     "output_type": "stream",
     "text": [
      "no face detected! run original image\n",
      "no face detected! run original image\n",
      "no face detected! run original image\n",
      "no face detected! run original image\n"
     ]
    },
    {
     "name": "stderr",
     "output_type": "stream",
     "text": [
      " 99%|█████████▉| 5133/5164 [52:50<00:16,  1.86it/s]"
     ]
    },
    {
     "name": "stdout",
     "output_type": "stream",
     "text": [
      "no face detected! run original image\n",
      "no face detected! run original image\n",
      "no face detected! run original image\n",
      "no face detected! run original image\n"
     ]
    },
    {
     "name": "stderr",
     "output_type": "stream",
     "text": [
      " 99%|█████████▉| 5134/5164 [52:50<00:15,  1.88it/s]"
     ]
    },
    {
     "name": "stdout",
     "output_type": "stream",
     "text": [
      "no face detected! run original image\n",
      "no face detected! run original image\n",
      "no face detected! run original image\n",
      "no face detected! run original image\n"
     ]
    },
    {
     "name": "stderr",
     "output_type": "stream",
     "text": [
      " 99%|█████████▉| 5135/5164 [52:51<00:15,  1.88it/s]"
     ]
    },
    {
     "name": "stdout",
     "output_type": "stream",
     "text": [
      "no face detected! run original image\n",
      "no face detected! run original image\n",
      "no face detected! run original image\n",
      "no face detected! run original image\n"
     ]
    },
    {
     "name": "stderr",
     "output_type": "stream",
     "text": [
      " 99%|█████████▉| 5136/5164 [52:51<00:14,  1.89it/s]"
     ]
    },
    {
     "name": "stdout",
     "output_type": "stream",
     "text": [
      "no face detected! run original image\n",
      "no face detected! run original image\n",
      "no face detected! run original image\n",
      "no face detected! run original image\n"
     ]
    },
    {
     "name": "stderr",
     "output_type": "stream",
     "text": [
      " 99%|█████████▉| 5137/5164 [52:52<00:14,  1.89it/s]"
     ]
    },
    {
     "name": "stdout",
     "output_type": "stream",
     "text": [
      "no face detected! run original image\n",
      "no face detected! run original image\n",
      "no face detected! run original image\n",
      "no face detected! run original image\n"
     ]
    },
    {
     "name": "stderr",
     "output_type": "stream",
     "text": [
      " 99%|█████████▉| 5138/5164 [52:52<00:13,  1.89it/s]"
     ]
    },
    {
     "name": "stdout",
     "output_type": "stream",
     "text": [
      "no face detected! run original image\n",
      "no face detected! run original image\n",
      "no face detected! run original image\n",
      "no face detected! run original image\n"
     ]
    },
    {
     "name": "stderr",
     "output_type": "stream",
     "text": [
      "100%|█████████▉| 5139/5164 [52:53<00:13,  1.90it/s]"
     ]
    },
    {
     "name": "stdout",
     "output_type": "stream",
     "text": [
      "no face detected! run original image\n",
      "no face detected! run original image\n",
      "no face detected! run original image\n",
      "no face detected! run original image\n"
     ]
    },
    {
     "name": "stderr",
     "output_type": "stream",
     "text": [
      "100%|█████████▉| 5140/5164 [52:53<00:12,  1.90it/s]"
     ]
    },
    {
     "name": "stdout",
     "output_type": "stream",
     "text": [
      "no face detected! run original image\n",
      "no face detected! run original image\n",
      "no face detected! run original image\n",
      "no face detected! run original image\n"
     ]
    },
    {
     "name": "stderr",
     "output_type": "stream",
     "text": [
      "100%|█████████▉| 5141/5164 [52:54<00:12,  1.91it/s]"
     ]
    },
    {
     "name": "stdout",
     "output_type": "stream",
     "text": [
      "no face detected! run original image\n",
      "no face detected! run original image\n",
      "no face detected! run original image\n",
      "no face detected! run original image\n"
     ]
    },
    {
     "name": "stderr",
     "output_type": "stream",
     "text": [
      "100%|█████████▉| 5142/5164 [52:54<00:11,  1.91it/s]"
     ]
    },
    {
     "name": "stdout",
     "output_type": "stream",
     "text": [
      "no face detected! run original image\n",
      "no face detected! run original image\n",
      "no face detected! run original image\n",
      "no face detected! run original image\n"
     ]
    },
    {
     "name": "stderr",
     "output_type": "stream",
     "text": [
      "100%|█████████▉| 5143/5164 [52:55<00:11,  1.82it/s]"
     ]
    },
    {
     "name": "stdout",
     "output_type": "stream",
     "text": [
      "no face detected! run original image\n",
      "no face detected! run original image\n",
      "no face detected! run original image\n",
      "no face detected! run original image\n"
     ]
    },
    {
     "name": "stderr",
     "output_type": "stream",
     "text": [
      "100%|█████████▉| 5144/5164 [52:56<00:10,  1.85it/s]"
     ]
    },
    {
     "name": "stdout",
     "output_type": "stream",
     "text": [
      "no face detected! run original image\n",
      "no face detected! run original image\n",
      "no face detected! run original image\n",
      "no face detected! run original image\n"
     ]
    },
    {
     "name": "stderr",
     "output_type": "stream",
     "text": [
      "100%|█████████▉| 5145/5164 [52:56<00:10,  1.86it/s]"
     ]
    },
    {
     "name": "stdout",
     "output_type": "stream",
     "text": [
      "no face detected! run original image\n",
      "no face detected! run original image\n",
      "no face detected! run original image\n",
      "no face detected! run original image\n"
     ]
    },
    {
     "name": "stderr",
     "output_type": "stream",
     "text": [
      "100%|█████████▉| 5146/5164 [52:57<00:09,  1.88it/s]"
     ]
    },
    {
     "name": "stdout",
     "output_type": "stream",
     "text": [
      "no face detected! run original image\n",
      "no face detected! run original image\n",
      "no face detected! run original image\n",
      "no face detected! run original image\n"
     ]
    },
    {
     "name": "stderr",
     "output_type": "stream",
     "text": [
      "100%|█████████▉| 5147/5164 [52:57<00:08,  1.89it/s]"
     ]
    },
    {
     "name": "stdout",
     "output_type": "stream",
     "text": [
      "no face detected! run original image\n",
      "no face detected! run original image\n",
      "no face detected! run original image\n",
      "no face detected! run original image\n"
     ]
    },
    {
     "name": "stderr",
     "output_type": "stream",
     "text": [
      "100%|█████████▉| 5148/5164 [52:58<00:08,  1.90it/s]"
     ]
    },
    {
     "name": "stdout",
     "output_type": "stream",
     "text": [
      "no face detected! run original image\n",
      "no face detected! run original image\n",
      "no face detected! run original image\n",
      "no face detected! run original image\n"
     ]
    },
    {
     "name": "stderr",
     "output_type": "stream",
     "text": [
      "100%|█████████▉| 5149/5164 [52:58<00:07,  1.90it/s]"
     ]
    },
    {
     "name": "stdout",
     "output_type": "stream",
     "text": [
      "no face detected! run original image\n",
      "no face detected! run original image\n",
      "no face detected! run original image\n",
      "no face detected! run original image\n"
     ]
    },
    {
     "name": "stderr",
     "output_type": "stream",
     "text": [
      "100%|█████████▉| 5150/5164 [52:59<00:07,  1.87it/s]"
     ]
    },
    {
     "name": "stdout",
     "output_type": "stream",
     "text": [
      "no face detected! run original image\n",
      "no face detected! run original image\n",
      "no face detected! run original image\n",
      "no face detected! run original image\n"
     ]
    },
    {
     "name": "stderr",
     "output_type": "stream",
     "text": [
      "100%|█████████▉| 5151/5164 [52:59<00:06,  1.87it/s]"
     ]
    },
    {
     "name": "stdout",
     "output_type": "stream",
     "text": [
      "no face detected! run original image\n",
      "no face detected! run original image\n",
      "no face detected! run original image\n",
      "no face detected! run original image\n"
     ]
    },
    {
     "name": "stderr",
     "output_type": "stream",
     "text": [
      "100%|█████████▉| 5152/5164 [53:00<00:06,  1.87it/s]"
     ]
    },
    {
     "name": "stdout",
     "output_type": "stream",
     "text": [
      "no face detected! run original image\n",
      "no face detected! run original image\n",
      "no face detected! run original image\n",
      "no face detected! run original image\n"
     ]
    },
    {
     "name": "stderr",
     "output_type": "stream",
     "text": [
      "100%|█████████▉| 5153/5164 [53:00<00:05,  1.88it/s]"
     ]
    },
    {
     "name": "stdout",
     "output_type": "stream",
     "text": [
      "no face detected! run original image\n",
      "no face detected! run original image\n",
      "no face detected! run original image\n",
      "no face detected! run original image\n"
     ]
    },
    {
     "name": "stderr",
     "output_type": "stream",
     "text": [
      "100%|█████████▉| 5154/5164 [53:01<00:05,  1.89it/s]"
     ]
    },
    {
     "name": "stdout",
     "output_type": "stream",
     "text": [
      "no face detected! run original image\n",
      "no face detected! run original image\n",
      "no face detected! run original image\n",
      "no face detected! run original image\n"
     ]
    },
    {
     "name": "stderr",
     "output_type": "stream",
     "text": [
      "100%|█████████▉| 5155/5164 [53:02<00:05,  1.75it/s]"
     ]
    },
    {
     "name": "stdout",
     "output_type": "stream",
     "text": [
      "no face detected! run original image\n",
      "no face detected! run original image\n",
      "no face detected! run original image\n",
      "no face detected! run original image\n"
     ]
    },
    {
     "name": "stderr",
     "output_type": "stream",
     "text": [
      "100%|█████████▉| 5156/5164 [53:02<00:04,  1.79it/s]"
     ]
    },
    {
     "name": "stdout",
     "output_type": "stream",
     "text": [
      "no face detected! run original image\n",
      "no face detected! run original image\n",
      "no face detected! run original image\n",
      "no face detected! run original image\n"
     ]
    },
    {
     "name": "stderr",
     "output_type": "stream",
     "text": [
      "100%|█████████▉| 5157/5164 [53:03<00:03,  1.83it/s]"
     ]
    },
    {
     "name": "stdout",
     "output_type": "stream",
     "text": [
      "no face detected! run original image\n",
      "no face detected! run original image\n",
      "no face detected! run original image\n",
      "no face detected! run original image\n"
     ]
    },
    {
     "name": "stderr",
     "output_type": "stream",
     "text": [
      "100%|█████████▉| 5158/5164 [53:03<00:03,  1.87it/s]"
     ]
    },
    {
     "name": "stdout",
     "output_type": "stream",
     "text": [
      "no face detected! run original image\n",
      "no face detected! run original image\n",
      "no face detected! run original image\n",
      "no face detected! run original image\n"
     ]
    },
    {
     "name": "stderr",
     "output_type": "stream",
     "text": [
      "100%|█████████▉| 5159/5164 [53:04<00:02,  1.88it/s]"
     ]
    },
    {
     "name": "stdout",
     "output_type": "stream",
     "text": [
      "no face detected! run original image\n",
      "no face detected! run original image\n",
      "no face detected! run original image\n",
      "no face detected! run original image\n"
     ]
    },
    {
     "name": "stderr",
     "output_type": "stream",
     "text": [
      "100%|█████████▉| 5160/5164 [53:04<00:02,  1.87it/s]"
     ]
    },
    {
     "name": "stdout",
     "output_type": "stream",
     "text": [
      "no face detected! run original image\n",
      "no face detected! run original image\n",
      "no face detected! run original image\n",
      "no face detected! run original image\n"
     ]
    },
    {
     "name": "stderr",
     "output_type": "stream",
     "text": [
      "100%|█████████▉| 5161/5164 [53:05<00:01,  1.88it/s]"
     ]
    },
    {
     "name": "stdout",
     "output_type": "stream",
     "text": [
      "no face detected! run original image\n",
      "no face detected! run original image\n",
      "no face detected! run original image\n",
      "no face detected! run original image\n"
     ]
    },
    {
     "name": "stderr",
     "output_type": "stream",
     "text": [
      "100%|█████████▉| 5162/5164 [53:05<00:01,  1.89it/s]"
     ]
    },
    {
     "name": "stdout",
     "output_type": "stream",
     "text": [
      "no face detected! run original image\n",
      "no face detected! run original image\n",
      "no face detected! run original image\n",
      "no face detected! run original image\n"
     ]
    },
    {
     "name": "stderr",
     "output_type": "stream",
     "text": [
      "100%|█████████▉| 5163/5164 [53:06<00:00,  1.91it/s]"
     ]
    },
    {
     "name": "stdout",
     "output_type": "stream",
     "text": [
      "no face detected! run original image\n",
      "no face detected! run original image\n",
      "no face detected! run original image\n",
      "no face detected! run original image\n"
     ]
    },
    {
     "name": "stderr",
     "output_type": "stream",
     "text": [
      "100%|██████████| 5164/5164 [53:06<00:00,  1.62it/s]"
     ]
    },
    {
     "name": "stdout",
     "output_type": "stream",
     "text": [
      "-- please check the results in ./3D_Reconstruction_Output\n"
     ]
    },
    {
     "name": "stderr",
     "output_type": "stream",
     "text": [
      "\n"
     ]
    }
   ],
   "source": [
    "dr.main(args)"
   ]
  },
  {
   "cell_type": "code",
   "execution_count": 43,
   "id": "02abed3d",
   "metadata": {},
   "outputs": [],
   "source": [
    "import os\n",
    "\n",
    "# I want to get shape_detail_images\n",
    "nameThatIwant = \"shape_detail_images\"\n",
    "wantedList = []\n",
    "\n",
    "for path, dirs, files in os.walk(saveDir):\n",
    "    for file in files:\n",
    "        file_path = os.path.join(path, file)\n",
    "        if (nameThatIwant in file_path) and (\"orig_\" in file_path):\n",
    "            wantedList.append('file ' + file_path)\n",
    "wantedList.sort()\n",
    "\n",
    "with open('./conan_candidate.txt', 'w+') as lf:\n",
    "    lf.write('\\n'.join(wantedList))\n",
    "            "
   ]
  },
  {
   "cell_type": "code",
   "execution_count": 44,
   "id": "2975645e",
   "metadata": {},
   "outputs": [
    {
     "name": "stdout",
     "output_type": "stream",
     "text": [
      "ffmpeg version 4.2.2 Copyright (c) 2000-2019 the FFmpeg developers\n",
      "  built with gcc 7.3.0 (crosstool-NG 1.23.0.449-a04d0)\n",
      "  configuration: --prefix=/usr/anaconda3/envs/deca --cc=/tmp/build/80754af9/ffmpeg_1587154242452/_build_env/bin/x86_64-conda_cos6-linux-gnu-cc --disable-doc --enable-avresample --enable-gmp --enable-hardcoded-tables --enable-libfreetype --enable-libvpx --enable-pthreads --enable-libopus --enable-postproc --enable-pic --enable-pthreads --enable-shared --enable-static --enable-version3 --enable-zlib --enable-libmp3lame --disable-nonfree --enable-gpl --enable-gnutls --disable-openssl --enable-libopenh264 --enable-libx264\n",
      "  libavutil      56. 31.100 / 56. 31.100\n",
      "  libavcodec     58. 54.100 / 58. 54.100\n",
      "  libavformat    58. 29.100 / 58. 29.100\n",
      "  libavdevice    58.  8.100 / 58.  8.100\n",
      "  libavfilter     7. 57.100 /  7. 57.100\n",
      "  libavresample   4.  0.  0 /  4.  0.  0\n",
      "  libswscale      5.  5.100 /  5.  5.100\n",
      "  libswresample   3.  5.100 /  3.  5.100\n",
      "  libpostproc    55.  5.100 / 55.  5.100\n",
      "Input #0, concat, from 'conan_candidate.txt':\n",
      "  Duration: N/A, start: 0.000000, bitrate: N/A\n",
      "    Stream #0:0: Video: mjpeg (Baseline), yuvj420p(pc, bt470bg/unknown/unknown), 1280x720 [SAR 1:1 DAR 16:9], 25 tbr, 25 tbn, 25 tbc\n",
      "Stream mapping:\n",
      "  Stream #0:0 -> #0:0 (mjpeg (native) -> h264 (libx264))\n",
      "Press [q] to stop, [?] for help\n",
      "\u001b[1;36m[libx264 @ 0x55b9b6e560c0] \u001b[0musing SAR=1/1\n",
      "\u001b[1;36m[libx264 @ 0x55b9b6e560c0] \u001b[0musing cpu capabilities: MMX2 SSE2Fast SSSE3 SSE4.2 AVX FMA3 BMI2 AVX2 AVX512\n",
      "\u001b[1;36m[libx264 @ 0x55b9b6e560c0] \u001b[0mprofile High, level 3.1, 4:2:0, 8-bit\n",
      "\u001b[1;36m[libx264 @ 0x55b9b6e560c0] \u001b[0m264 - core 157 - H.264/MPEG-4 AVC codec - Copyleft 2003-2018 - http://www.videolan.org/x264.html - options: cabac=1 ref=3 deblock=1:0:0 analyse=0x3:0x113 me=hex subme=7 psy=1 psy_rd=1.00:0.00 mixed_ref=1 me_range=16 chroma_me=1 trellis=1 8x8dct=1 cqm=0 deadzone=21,11 fast_pskip=1 chroma_qp_offset=-2 threads=22 lookahead_threads=3 sliced_threads=0 nr=0 decimate=1 interlaced=0 bluray_compat=0 constrained_intra=0 bframes=3 b_pyramid=2 b_adapt=1 b_bias=0 direct=1 weightb=1 open_gop=0 weightp=2 keyint=250 keyint_min=25 scenecut=40 intra_refresh=0 rc_lookahead=40 rc=crf mbtree=1 crf=23.0 qcomp=0.60 qpmin=0 qpmax=69 qpstep=4 ip_ratio=1.40 aq=1:1.00\n",
      "Output #0, mp4, to 'conan_result.mp4':\n",
      "  Metadata:\n",
      "    encoder         : Lavf58.29.100\n",
      "    Stream #0:0: Video: h264 (libx264) (avc1 / 0x31637661), yuvj420p(pc), 1280x720 [SAR 1:1 DAR 16:9], q=-1--1, 25 fps, 12800 tbn, 25 tbc\n",
      "    Metadata:\n",
      "      encoder         : Lavc58.54.100 libx264\n",
      "    Side data:\n",
      "      cpb: bitrate max/min/avg: 0/0/0 buffer size: 0 vbv_delay: -1\n",
      "frame= 5164 fps=344 q=-1.0 Lsize=   21397kB time=00:03:26.44 bitrate= 849.1kbits/s speed=13.8x    \n",
      "video:21336kB audio:0kB subtitle:0kB other streams:0kB global headers:0kB muxing overhead: 0.287864%\n",
      "\u001b[1;36m[libx264 @ 0x55b9b6e560c0] \u001b[0mframe I:34    Avg QP:15.74  size: 44784\n",
      "\u001b[1;36m[libx264 @ 0x55b9b6e560c0] \u001b[0mframe P:1316  Avg QP:19.82  size:  9549\n",
      "\u001b[1;36m[libx264 @ 0x55b9b6e560c0] \u001b[0mframe B:3814  Avg QP:25.32  size:  2034\n",
      "\u001b[1;36m[libx264 @ 0x55b9b6e560c0] \u001b[0mconsecutive B-frames:  1.1%  0.7%  1.5% 96.7%\n",
      "\u001b[1;36m[libx264 @ 0x55b9b6e560c0] \u001b[0mmb I  I16..4: 24.0% 69.5%  6.5%\n",
      "\u001b[1;36m[libx264 @ 0x55b9b6e560c0] \u001b[0mmb P  I16..4:  2.4% 12.1%  0.3%  P16..4: 19.7%  7.3%  4.1%  0.0%  0.0%    skip:54.1%\n",
      "\u001b[1;36m[libx264 @ 0x55b9b6e560c0] \u001b[0mmb B  I16..4:  0.3%  1.0%  0.0%  B16..8: 23.2%  2.0%  0.3%  direct: 0.5%  skip:72.6%  L0:51.0% L1:46.3% BI: 2.7%\n",
      "\u001b[1;36m[libx264 @ 0x55b9b6e560c0] \u001b[0m8x8 transform intra:78.9% inter:77.1%\n",
      "\u001b[1;36m[libx264 @ 0x55b9b6e560c0] \u001b[0mcoded y,uvDC,uvAC intra: 45.8% 39.5% 10.9% inter: 3.7% 3.5% 0.2%\n",
      "\u001b[1;36m[libx264 @ 0x55b9b6e560c0] \u001b[0mi16 v,h,dc,p: 59% 17%  8% 15%\n",
      "\u001b[1;36m[libx264 @ 0x55b9b6e560c0] \u001b[0mi8 v,h,dc,ddl,ddr,vr,hd,vl,hu: 35% 21% 32%  2%  2%  2%  2%  2%  2%\n",
      "\u001b[1;36m[libx264 @ 0x55b9b6e560c0] \u001b[0mi4 v,h,dc,ddl,ddr,vr,hd,vl,hu: 30% 23% 13%  4%  7%  7%  8%  5%  4%\n",
      "\u001b[1;36m[libx264 @ 0x55b9b6e560c0] \u001b[0mi8c dc,h,v,p: 46% 19% 30%  4%\n",
      "\u001b[1;36m[libx264 @ 0x55b9b6e560c0] \u001b[0mWeighted P-Frames: Y:0.5% UV:0.5%\n",
      "\u001b[1;36m[libx264 @ 0x55b9b6e560c0] \u001b[0mref P L0: 57.8% 11.0% 21.9%  9.3%  0.0%\n",
      "\u001b[1;36m[libx264 @ 0x55b9b6e560c0] \u001b[0mref B L0: 77.2% 18.2%  4.5%\n",
      "\u001b[1;36m[libx264 @ 0x55b9b6e560c0] \u001b[0mref B L1: 91.9%  8.1%\n",
      "\u001b[1;36m[libx264 @ 0x55b9b6e560c0] \u001b[0mkb/s:846.13\n"
     ]
    }
   ],
   "source": [
    "!ffmpeg -y -f concat -safe 0 -i conan_candidate.txt -c:v libx264 conan_result.mp4 "
   ]
  }
 ],
 "metadata": {
  "kernelspec": {
   "display_name": "Python 3 (ipykernel)",
   "language": "python",
   "name": "python3"
  },
  "language_info": {
   "codemirror_mode": {
    "name": "ipython",
    "version": 3
   },
   "file_extension": ".py",
   "mimetype": "text/x-python",
   "name": "python",
   "nbconvert_exporter": "python",
   "pygments_lexer": "ipython3",
   "version": "3.8.12"
  }
 },
 "nbformat": 4,
 "nbformat_minor": 5
}
